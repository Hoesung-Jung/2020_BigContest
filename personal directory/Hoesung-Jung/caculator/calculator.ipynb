{
 "cells": [
  {
   "cell_type": "code",
   "execution_count": 1,
   "metadata": {},
   "outputs": [],
   "source": [
    "# 2018 KBO\n",
    "def cal_x(arr):\n",
    "    array = []\n",
    "    for i in range(len(arr)):\n",
    "        team_lst = []\n",
    "        #if sum(arr[i][0:]) == 288:\n",
    "        team = arr[i][0]\n",
    "        g = arr[i][1] # 전체 게임 수\n",
    "#         w = arr[i][2]\n",
    "#         l = arr[i][4]\n",
    "        rs = arr[i][5] # 득점\n",
    "        ra = arr[i][6] # 실점\n",
    "        wr = arr[i][7] # 승률\n",
    "        team_lst.append(team)\n",
    "        x = ((rs + ra)/g) ** 0.287\n",
    "        team_lst.append(x)\n",
    "        ewr = (rs ** x / (rs ** x + ra ** x)) # 기대 승률\n",
    "        team_lst.append(ewr)\n",
    "        team_lst.append(wr)\n",
    "        array.append(team_lst)\n",
    "    return array"
   ]
  },
  {
   "cell_type": "code",
   "execution_count": 2,
   "metadata": {},
   "outputs": [
    {
     "name": "stdout",
     "output_type": "stream",
     "text": [
      "[['두산', 2.0309012420733867, 0.6108846387172773, 0.65], ['NC', 1.9456299985807812, 0.3543216096413548, 0.589], ['넥센', 1.997658742779035, 0.5279826334270579, 0.538], ['LG', 1.9973014496630215, 0.48257248582588974, 0.5], ['KIA', 2.0278096252173343, 0.5233710711805094, 0.49], ['SK', 1.9806914363159178, 0.5633110485146462, 0.479], ['한화', 1.9554847066885668, 0.4790106194890715, 0.468], ['롯데', 2.0195075536506186, 0.4848602160868635, 0.458], ['삼성', 1.9879555680817975, 0.48362704647395993, 0.455], ['kt', 1.9926421210721221, 0.45189239520181157, 0.373]]\n"
     ]
    }
   ],
   "source": [
    "arr = [['두산', 144, 93, 0, 51, 944, 756, 0.650], \n",
    "       ['NC', 144, 58, 1, 85, 620, 844, 0.589], \n",
    "       ['넥센', 144, 75, 0, 69, 825, 780, 0.538], \n",
    "       ['LG', 144, 68, 1, 75, 788, 816, 0.500],\n",
    "       ['KIA', 144, 70, 0, 74, 865, 826, 0.490],\n",
    "       ['SK', 144, 69, 0, 75, 829, 729, 0.479],\n",
    "       ['한화', 144, 77, 0, 67, 729, 761, 0.468], \n",
    "       ['롯데', 144, 68, 2, 74,821, 846, 0.458], \n",
    "       ['삼성', 144, 68, 4, 72, 776, 802, 0.455], \n",
    "       ['kt', 144, 59, 3, 82, 757, 834, 0.373]]\n",
    "print(cal_x(arr))"
   ]
  },
  {
   "cell_type": "markdown",
   "metadata": {},
   "source": [
    "### 피타고리언 승률과 차이 많이 나는 팀 원인 분석 ==> 데이터 전처리 필요\n",
    "### 전, 후반기로 나누어 승률 추이 관찰"
   ]
  },
  {
   "cell_type": "code",
   "execution_count": null,
   "metadata": {},
   "outputs": [],
   "source": []
  }
 ],
 "metadata": {
  "kernelspec": {
   "display_name": "Python 3",
   "language": "python",
   "name": "python3"
  },
  "language_info": {
   "codemirror_mode": {
    "name": "ipython",
    "version": 3
   },
   "file_extension": ".py",
   "mimetype": "text/x-python",
   "name": "python",
   "nbconvert_exporter": "python",
   "pygments_lexer": "ipython3",
   "version": "3.7.7"
  }
 },
 "nbformat": 4,
 "nbformat_minor": 4
}
