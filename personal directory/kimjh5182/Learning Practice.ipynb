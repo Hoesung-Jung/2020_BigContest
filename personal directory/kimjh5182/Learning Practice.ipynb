{
 "cells": [
  {
   "cell_type": "markdown",
   "metadata": {},
   "source": [
    "# Data Split"
   ]
  },
  {
   "cell_type": "code",
   "execution_count": 1,
   "metadata": {},
   "outputs": [],
   "source": [
    "import pandas as pd"
   ]
  },
  {
   "cell_type": "code",
   "execution_count": 2,
   "metadata": {},
   "outputs": [
    {
     "data": {
      "text/html": [
       "<div>\n",
       "<style scoped>\n",
       "    .dataframe tbody tr th:only-of-type {\n",
       "        vertical-align: middle;\n",
       "    }\n",
       "\n",
       "    .dataframe tbody tr th {\n",
       "        vertical-align: top;\n",
       "    }\n",
       "\n",
       "    .dataframe thead th {\n",
       "        text-align: right;\n",
       "    }\n",
       "</style>\n",
       "<table border=\"1\" class=\"dataframe\">\n",
       "  <thead>\n",
       "    <tr style=\"text-align: right;\">\n",
       "      <th></th>\n",
       "      <th>teamID</th>\n",
       "      <th>G</th>\n",
       "      <th>R</th>\n",
       "      <th>AB</th>\n",
       "      <th>H</th>\n",
       "      <th>2B</th>\n",
       "      <th>3B</th>\n",
       "      <th>HR</th>\n",
       "      <th>BB</th>\n",
       "      <th>SO</th>\n",
       "      <th>...</th>\n",
       "      <th>decade_1960</th>\n",
       "      <th>decade_1970</th>\n",
       "      <th>decade_1980</th>\n",
       "      <th>decade_1990</th>\n",
       "      <th>decade_2000</th>\n",
       "      <th>decade_2010</th>\n",
       "      <th>R_per_game</th>\n",
       "      <th>RA_per_game</th>\n",
       "      <th>labels</th>\n",
       "      <th>W</th>\n",
       "    </tr>\n",
       "  </thead>\n",
       "  <tbody>\n",
       "    <tr>\n",
       "      <td>0</td>\n",
       "      <td>LAA</td>\n",
       "      <td>162</td>\n",
       "      <td>744</td>\n",
       "      <td>5424</td>\n",
       "      <td>1331</td>\n",
       "      <td>218</td>\n",
       "      <td>22</td>\n",
       "      <td>189</td>\n",
       "      <td>681</td>\n",
       "      <td>1068</td>\n",
       "      <td>...</td>\n",
       "      <td>1</td>\n",
       "      <td>0</td>\n",
       "      <td>0</td>\n",
       "      <td>0</td>\n",
       "      <td>0</td>\n",
       "      <td>0</td>\n",
       "      <td>4.592593</td>\n",
       "      <td>4.839506</td>\n",
       "      <td>5</td>\n",
       "      <td>70</td>\n",
       "    </tr>\n",
       "    <tr>\n",
       "      <td>1</td>\n",
       "      <td>LAA</td>\n",
       "      <td>162</td>\n",
       "      <td>718</td>\n",
       "      <td>5499</td>\n",
       "      <td>1377</td>\n",
       "      <td>232</td>\n",
       "      <td>35</td>\n",
       "      <td>137</td>\n",
       "      <td>602</td>\n",
       "      <td>917</td>\n",
       "      <td>...</td>\n",
       "      <td>1</td>\n",
       "      <td>0</td>\n",
       "      <td>0</td>\n",
       "      <td>0</td>\n",
       "      <td>0</td>\n",
       "      <td>0</td>\n",
       "      <td>4.432099</td>\n",
       "      <td>4.358025</td>\n",
       "      <td>0</td>\n",
       "      <td>86</td>\n",
       "    </tr>\n",
       "    <tr>\n",
       "      <td>2</td>\n",
       "      <td>LAA</td>\n",
       "      <td>161</td>\n",
       "      <td>597</td>\n",
       "      <td>5506</td>\n",
       "      <td>1378</td>\n",
       "      <td>208</td>\n",
       "      <td>38</td>\n",
       "      <td>95</td>\n",
       "      <td>448</td>\n",
       "      <td>916</td>\n",
       "      <td>...</td>\n",
       "      <td>1</td>\n",
       "      <td>0</td>\n",
       "      <td>0</td>\n",
       "      <td>0</td>\n",
       "      <td>0</td>\n",
       "      <td>0</td>\n",
       "      <td>3.708075</td>\n",
       "      <td>4.099379</td>\n",
       "      <td>0</td>\n",
       "      <td>70</td>\n",
       "    </tr>\n",
       "    <tr>\n",
       "      <td>3</td>\n",
       "      <td>LAA</td>\n",
       "      <td>162</td>\n",
       "      <td>544</td>\n",
       "      <td>5362</td>\n",
       "      <td>1297</td>\n",
       "      <td>186</td>\n",
       "      <td>27</td>\n",
       "      <td>102</td>\n",
       "      <td>472</td>\n",
       "      <td>920</td>\n",
       "      <td>...</td>\n",
       "      <td>1</td>\n",
       "      <td>0</td>\n",
       "      <td>0</td>\n",
       "      <td>0</td>\n",
       "      <td>0</td>\n",
       "      <td>0</td>\n",
       "      <td>3.358025</td>\n",
       "      <td>3.401235</td>\n",
       "      <td>0</td>\n",
       "      <td>82</td>\n",
       "    </tr>\n",
       "    <tr>\n",
       "      <td>4</td>\n",
       "      <td>CAL</td>\n",
       "      <td>162</td>\n",
       "      <td>527</td>\n",
       "      <td>5354</td>\n",
       "      <td>1279</td>\n",
       "      <td>200</td>\n",
       "      <td>36</td>\n",
       "      <td>92</td>\n",
       "      <td>443</td>\n",
       "      <td>973</td>\n",
       "      <td>...</td>\n",
       "      <td>1</td>\n",
       "      <td>0</td>\n",
       "      <td>0</td>\n",
       "      <td>0</td>\n",
       "      <td>0</td>\n",
       "      <td>0</td>\n",
       "      <td>3.253086</td>\n",
       "      <td>3.512346</td>\n",
       "      <td>0</td>\n",
       "      <td>75</td>\n",
       "    </tr>\n",
       "  </tbody>\n",
       "</table>\n",
       "<p>5 rows × 50 columns</p>\n",
       "</div>"
      ],
      "text/plain": [
       "  teamID    G    R    AB     H   2B  3B   HR   BB    SO  ...  decade_1960  \\\n",
       "0    LAA  162  744  5424  1331  218  22  189  681  1068  ...            1   \n",
       "1    LAA  162  718  5499  1377  232  35  137  602   917  ...            1   \n",
       "2    LAA  161  597  5506  1378  208  38   95  448   916  ...            1   \n",
       "3    LAA  162  544  5362  1297  186  27  102  472   920  ...            1   \n",
       "4    CAL  162  527  5354  1279  200  36   92  443   973  ...            1   \n",
       "\n",
       "   decade_1970  decade_1980  decade_1990  decade_2000  decade_2010  \\\n",
       "0            0            0            0            0            0   \n",
       "1            0            0            0            0            0   \n",
       "2            0            0            0            0            0   \n",
       "3            0            0            0            0            0   \n",
       "4            0            0            0            0            0   \n",
       "\n",
       "   R_per_game  RA_per_game  labels   W  \n",
       "0    4.592593     4.839506       5  70  \n",
       "1    4.432099     4.358025       0  86  \n",
       "2    3.708075     4.099379       0  70  \n",
       "3    3.358025     3.401235       0  82  \n",
       "4    3.253086     3.512346       0  75  \n",
       "\n",
       "[5 rows x 50 columns]"
      ]
     },
     "execution_count": 2,
     "metadata": {},
     "output_type": "execute_result"
    }
   ],
   "source": [
    "df = pd.read_csv('dataframe_mlb.csv')\n",
    "df.head()"
   ]
  },
  {
   "cell_type": "code",
   "execution_count": 3,
   "metadata": {},
   "outputs": [
    {
     "data": {
      "text/html": [
       "<div>\n",
       "<style scoped>\n",
       "    .dataframe tbody tr th:only-of-type {\n",
       "        vertical-align: middle;\n",
       "    }\n",
       "\n",
       "    .dataframe tbody tr th {\n",
       "        vertical-align: top;\n",
       "    }\n",
       "\n",
       "    .dataframe thead th {\n",
       "        text-align: right;\n",
       "    }\n",
       "</style>\n",
       "<table border=\"1\" class=\"dataframe\">\n",
       "  <thead>\n",
       "    <tr style=\"text-align: right;\">\n",
       "      <th></th>\n",
       "      <th>G</th>\n",
       "      <th>R</th>\n",
       "      <th>AB</th>\n",
       "      <th>H</th>\n",
       "      <th>2B</th>\n",
       "      <th>3B</th>\n",
       "      <th>HR</th>\n",
       "      <th>BB</th>\n",
       "      <th>SO</th>\n",
       "      <th>SB</th>\n",
       "      <th>...</th>\n",
       "      <th>SOA</th>\n",
       "      <th>E</th>\n",
       "      <th>DP</th>\n",
       "      <th>FP</th>\n",
       "      <th>win_bins</th>\n",
       "      <th>mlb_rpg</th>\n",
       "      <th>R_per_game</th>\n",
       "      <th>RA_per_game</th>\n",
       "      <th>labels</th>\n",
       "      <th>W</th>\n",
       "    </tr>\n",
       "  </thead>\n",
       "  <tbody>\n",
       "    <tr>\n",
       "      <td>0</td>\n",
       "      <td>162</td>\n",
       "      <td>744</td>\n",
       "      <td>5424</td>\n",
       "      <td>1331</td>\n",
       "      <td>218</td>\n",
       "      <td>22</td>\n",
       "      <td>189</td>\n",
       "      <td>681</td>\n",
       "      <td>1068</td>\n",
       "      <td>37</td>\n",
       "      <td>...</td>\n",
       "      <td>973</td>\n",
       "      <td>192</td>\n",
       "      <td>154</td>\n",
       "      <td>0.969</td>\n",
       "      <td>3</td>\n",
       "      <td>4.525175</td>\n",
       "      <td>4.592593</td>\n",
       "      <td>4.839506</td>\n",
       "      <td>5</td>\n",
       "      <td>70</td>\n",
       "    </tr>\n",
       "    <tr>\n",
       "      <td>1</td>\n",
       "      <td>162</td>\n",
       "      <td>718</td>\n",
       "      <td>5499</td>\n",
       "      <td>1377</td>\n",
       "      <td>232</td>\n",
       "      <td>35</td>\n",
       "      <td>137</td>\n",
       "      <td>602</td>\n",
       "      <td>917</td>\n",
       "      <td>46</td>\n",
       "      <td>...</td>\n",
       "      <td>858</td>\n",
       "      <td>175</td>\n",
       "      <td>153</td>\n",
       "      <td>0.972</td>\n",
       "      <td>3</td>\n",
       "      <td>4.460518</td>\n",
       "      <td>4.432099</td>\n",
       "      <td>4.358025</td>\n",
       "      <td>0</td>\n",
       "      <td>86</td>\n",
       "    </tr>\n",
       "    <tr>\n",
       "      <td>2</td>\n",
       "      <td>161</td>\n",
       "      <td>597</td>\n",
       "      <td>5506</td>\n",
       "      <td>1378</td>\n",
       "      <td>208</td>\n",
       "      <td>38</td>\n",
       "      <td>95</td>\n",
       "      <td>448</td>\n",
       "      <td>916</td>\n",
       "      <td>43</td>\n",
       "      <td>...</td>\n",
       "      <td>889</td>\n",
       "      <td>163</td>\n",
       "      <td>155</td>\n",
       "      <td>0.974</td>\n",
       "      <td>3</td>\n",
       "      <td>3.946881</td>\n",
       "      <td>3.708075</td>\n",
       "      <td>4.099379</td>\n",
       "      <td>0</td>\n",
       "      <td>70</td>\n",
       "    </tr>\n",
       "    <tr>\n",
       "      <td>3</td>\n",
       "      <td>162</td>\n",
       "      <td>544</td>\n",
       "      <td>5362</td>\n",
       "      <td>1297</td>\n",
       "      <td>186</td>\n",
       "      <td>27</td>\n",
       "      <td>102</td>\n",
       "      <td>472</td>\n",
       "      <td>920</td>\n",
       "      <td>49</td>\n",
       "      <td>...</td>\n",
       "      <td>965</td>\n",
       "      <td>138</td>\n",
       "      <td>168</td>\n",
       "      <td>0.978</td>\n",
       "      <td>3</td>\n",
       "      <td>4.035670</td>\n",
       "      <td>3.358025</td>\n",
       "      <td>3.401235</td>\n",
       "      <td>0</td>\n",
       "      <td>82</td>\n",
       "    </tr>\n",
       "    <tr>\n",
       "      <td>4</td>\n",
       "      <td>162</td>\n",
       "      <td>527</td>\n",
       "      <td>5354</td>\n",
       "      <td>1279</td>\n",
       "      <td>200</td>\n",
       "      <td>36</td>\n",
       "      <td>92</td>\n",
       "      <td>443</td>\n",
       "      <td>973</td>\n",
       "      <td>107</td>\n",
       "      <td>...</td>\n",
       "      <td>847</td>\n",
       "      <td>123</td>\n",
       "      <td>149</td>\n",
       "      <td>0.981</td>\n",
       "      <td>3</td>\n",
       "      <td>3.988293</td>\n",
       "      <td>3.253086</td>\n",
       "      <td>3.512346</td>\n",
       "      <td>0</td>\n",
       "      <td>75</td>\n",
       "    </tr>\n",
       "  </tbody>\n",
       "</table>\n",
       "<p>5 rows × 30 columns</p>\n",
       "</div>"
      ],
      "text/plain": [
       "     G    R    AB     H   2B  3B   HR   BB    SO   SB  ...  SOA    E   DP  \\\n",
       "0  162  744  5424  1331  218  22  189  681  1068   37  ...  973  192  154   \n",
       "1  162  718  5499  1377  232  35  137  602   917   46  ...  858  175  153   \n",
       "2  161  597  5506  1378  208  38   95  448   916   43  ...  889  163  155   \n",
       "3  162  544  5362  1297  186  27  102  472   920   49  ...  965  138  168   \n",
       "4  162  527  5354  1279  200  36   92  443   973  107  ...  847  123  149   \n",
       "\n",
       "      FP  win_bins   mlb_rpg  R_per_game  RA_per_game  labels   W  \n",
       "0  0.969         3  4.525175    4.592593     4.839506       5  70  \n",
       "1  0.972         3  4.460518    4.432099     4.358025       0  86  \n",
       "2  0.974         3  3.946881    3.708075     4.099379       0  70  \n",
       "3  0.978         3  4.035670    3.358025     3.401235       0  82  \n",
       "4  0.981         3  3.988293    3.253086     3.512346       0  75  \n",
       "\n",
       "[5 rows x 30 columns]"
      ]
     },
     "execution_count": 3,
     "metadata": {},
     "output_type": "execute_result"
    }
   ],
   "source": [
    "del df['teamID']\n",
    "del df['era_1']; del df['era_2']; del df['era_3']; del df['era_4']; del df['era_5']; del df['era_6']; del df['era_7']; del df['era_8']\n",
    "del df['decade_1910']; del df['decade_1920']; del df['decade_1930']; del df['decade_1940']; del df['decade_1950']; del df['decade_1960']; del df['decade_1970']; del df['decade_1980']; del df['decade_1990']; del df['decade_2000']; del df['decade_2010']\n",
    "df.head()"
   ]
  },
  {
   "cell_type": "code",
   "execution_count": 4,
   "metadata": {},
   "outputs": [
    {
     "data": {
      "image/png": "[encoded data removed]",
      "text/plain": [
       "<Figure size 432x288 with 1 Axes>"
      ]
     },
     "metadata": {
      "needs_background": "light"
     },
     "output_type": "display_data"
    }
   ],
   "source": [
    "import matplotlib.pyplot as plt\n",
    "%matplotlib inline\n",
    "\n",
    "plt.hist(df['W'])\n",
    "plt.xlabel('Wins')\n",
    "plt.title('Distribution of Wins')\n",
    "\n",
    "plt.show()"
   ]
  },
  {
   "cell_type": "code",
   "execution_count": 5,
   "metadata": {},
   "outputs": [
    {
     "data": {
      "text/plain": [
       "G              0.178958\n",
       "R              0.551504\n",
       "AB             0.233996\n",
       "H              0.380281\n",
       "2B             0.262323\n",
       "3B             0.016970\n",
       "HR             0.312713\n",
       "BB             0.345348\n",
       "SO             0.072069\n",
       "SB             0.133300\n",
       "RA            -0.518313\n",
       "ER            -0.372580\n",
       "ERA           -0.425833\n",
       "CG            -0.041788\n",
       "SHO            0.426892\n",
       "SV             0.382174\n",
       "IPouts         0.326087\n",
       "HA            -0.384893\n",
       "HRA            0.009880\n",
       "BBA           -0.284782\n",
       "SOA            0.259205\n",
       "E             -0.304725\n",
       "DP             0.015192\n",
       "FP             0.319597\n",
       "win_bins       0.912545\n",
       "mlb_rpg        0.006909\n",
       "R_per_game     0.528489\n",
       "RA_per_game   -0.550696\n",
       "labels        -0.085962\n",
       "W              1.000000\n",
       "Name: W, dtype: float64"
      ]
     },
     "execution_count": 5,
     "metadata": {},
     "output_type": "execute_result"
    }
   ],
   "source": [
    "df.corr()['W']"
   ]
  },
  {
   "cell_type": "code",
   "execution_count": 6,
   "metadata": {},
   "outputs": [
    {
     "data": {
      "text/plain": [
       "array([[1.62000000e+02, 7.44000000e+02, 5.42400000e+03, ...,\n",
       "        4.59259259e+00, 4.83950617e+00, 5.00000000e+00],\n",
       "       [1.62000000e+02, 7.18000000e+02, 5.49900000e+03, ...,\n",
       "        4.43209877e+00, 4.35802469e+00, 0.00000000e+00],\n",
       "       [1.61000000e+02, 5.97000000e+02, 5.50600000e+03, ...,\n",
       "        3.70807453e+00, 4.09937888e+00, 0.00000000e+00],\n",
       "       ...,\n",
       "       [1.62000000e+02, 6.86000000e+02, 5.54200000e+03, ...,\n",
       "        4.23456790e+00, 3.42592593e+00, 2.00000000e+00],\n",
       "       [1.62000000e+02, 7.03000000e+02, 5.42800000e+03, ...,\n",
       "        4.33950617e+00, 3.91975309e+00, 2.00000000e+00],\n",
       "       [1.62000000e+02, 7.63000000e+02, 5.49000000e+03, ...,\n",
       "        4.70987654e+00, 3.77777778e+00, 2.00000000e+00]])"
      ]
     },
     "execution_count": 6,
     "metadata": {},
     "output_type": "execute_result"
    }
   ],
   "source": [
    "x_data = df.values[:, 0:29]\n",
    "x_data"
   ]
  },
  {
   "cell_type": "code",
   "execution_count": 7,
   "metadata": {},
   "outputs": [
    {
     "data": {
      "text/plain": [
       "array([[70.],\n",
       "       [86.],\n",
       "       [70.],\n",
       "       ...,\n",
       "       [96.],\n",
       "       [83.],\n",
       "       [95.]])"
      ]
     },
     "execution_count": 7,
     "metadata": {},
     "output_type": "execute_result"
    }
   ],
   "source": [
    "y_data = df.values[:, [29]]\n",
    "y_data"
   ]
  },
  {
   "cell_type": "code",
   "execution_count": 8,
   "metadata": {},
   "outputs": [
    {
     "data": {
      "text/plain": [
       "((2038, 29), (2038, 1), (227, 29), (227, 1))"
      ]
     },
     "execution_count": 8,
     "metadata": {},
     "output_type": "execute_result"
    }
   ],
   "source": [
    "from sklearn.model_selection import train_test_split\n",
    "\n",
    "X_train, X_test, y_train, y_test = train_test_split(x_data, y_data, test_size=0.1, random_state=7)\n",
    "X_train.shape, y_train.shape, X_test.shape, y_test.shape"
   ]
  },
  {
   "cell_type": "markdown",
   "metadata": {},
   "source": [
    "# Scaling"
   ]
  },
  {
   "cell_type": "code",
   "execution_count": 9,
   "metadata": {},
   "outputs": [],
   "source": [
    "from sklearn.preprocessing import StandardScaler\n",
    "\n",
    "scaler = StandardScaler()"
   ]
  },
  {
   "cell_type": "code",
   "execution_count": 10,
   "metadata": {},
   "outputs": [],
   "source": [
    "x_data = scaler.fit_transform(x_data)"
   ]
  },
  {
   "cell_type": "markdown",
   "metadata": {},
   "source": [
    "# Linear Regression"
   ]
  },
  {
   "cell_type": "code",
   "execution_count": 11,
   "metadata": {},
   "outputs": [
    {
     "name": "stdout",
     "output_type": "stream",
     "text": [
      "기울기: [[-3.92222678e-01  6.14201108e-02 -1.55880964e-02  1.25302984e-02\n",
      "   4.42825372e-03  1.29172217e-04  1.57226023e-03 -2.10286652e-03\n",
      "  -7.38331985e-04 -4.05546836e-03  2.46075947e-02 -8.55150822e-02\n",
      "   1.39287257e+01  7.98944982e-02  1.14160531e-01  2.08948598e-01\n",
      "   3.93251227e-02 -3.46086145e-03  3.76286514e-04 -3.25380492e-03\n",
      "   6.09740340e-04 -6.72082814e-02  7.12395805e-03 -3.69550279e+02\n",
      "   5.26377324e+00  2.84057887e-01  4.56367559e-01 -1.24151190e+01\n",
      "  -1.30677839e-02]]\n",
      "절편: [380.55880747]\n",
      "훈련 정확도:0.95\n",
      "테스트 정확도:0.93\n"
     ]
    }
   ],
   "source": [
    "from sklearn.linear_model import LinearRegression\n",
    "\n",
    "lr = LinearRegression().fit(X_train, y_train)\n",
    "print(\"기울기:\", lr.coef_)  # [0.39390555]\n",
    "print(\"절편:\", lr.intercept_)  # -0.03180434302675973\n",
    "print(\"훈련 정확도:{:.2f}\".format(lr.score(X_train, y_train)))\n",
    "print(\"테스트 정확도:{:.2f}\".format(lr.score(X_test, y_test)))"
   ]
  }
 ],
 "metadata": {
  "kernelspec": {
   "display_name": "Python 3",
   "language": "python",
   "name": "python3"
  },
  "language_info": {
   "codemirror_mode": {
    "name": "ipython",
    "version": 3
   },
   "file_extension": ".py",
   "mimetype": "text/x-python",
   "name": "python",
   "nbconvert_exporter": "python",
   "pygments_lexer": "ipython3",
   "version": "3.7.4"
  }
 },
 "nbformat": 4,
 "nbformat_minor": 2
}
