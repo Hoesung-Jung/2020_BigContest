{
 "cells": [
  {
   "cell_type": "markdown",
   "metadata": {},
   "source": [
    "# 한 년도 데이터 크롤링"
   ]
  },
  {
   "cell_type": "code",
   "execution_count": 1,
   "metadata": {},
   "outputs": [],
   "source": [
    "import pandas as pd\n",
    "import requests\n",
    "from bs4 import BeautifulSoup"
   ]
  },
  {
   "cell_type": "code",
   "execution_count": 2,
   "metadata": {},
   "outputs": [],
   "source": [
    "url_base = 'https://www.koreabaseball.com/Record/Team/{category}'\n",
    "category_list = ['Hitter/Basic1.aspx', 'Hitter/Basic2.aspx', 'Pitcher/Basic1.aspx', 'Pitcher/Basic2.aspx',\n",
    "                 'Defense/Basic.aspx', 'Runner/Basic.aspx']\n",
    "category_name_list = ['Hitter_1', 'Hitter_2', 'Pitcher_1', 'Pitcher_2', 'Defense', 'Runner']\n",
    "\n",
    "def year_data_crawling(input_year):\n",
    "    \n",
    "    for category in category_list:\n",
    "        url = url_base.format(category = category)\n",
    "        req = requests.get(url)\n",
    "        html = req.text\n",
    "        soup = BeautifulSoup(html, 'html.parser')\n",
    "    \n",
    "        temp_table = soup.find('div', {'class':'record_result'}) #Get Table Info\n",
    "        col_tag = temp_table.find_all('td')\n",
    "        col_list = ['Rank', 'Team']\n",
    "        for col in col_tag:\n",
    "            try:\n",
    "                temp_value = col.attrs['data-id']\n",
    "                if temp_value not in col_list:\n",
    "                    col_list.append(temp_value)\n",
    "                else:\n",
    "                    break\n",
    "            except:\n",
    "                pass\n",
    "        temp_data = pd.DataFrame(columns = col_list)\n",
    "    \n",
    "        i = 0\n",
    "        index = 0\n",
    "        col_len = len(col_list)\n",
    "        while True:\n",
    "            try:\n",
    "                temp_data.loc[i] = [x.text for x in temp_table.find_all('td')[index:index+col_len]]\n",
    "                i += 1\n",
    "                index += col_len\n",
    "            except:\n",
    "                break\n",
    "        \n",
    "        temp_data.to_csv('Original Datasets/'+str(input_year)+'_'+str(category_name_list[category_list.index(category)])+'_data.csv', index=False, encoding='cp949')"
   ]
  },
  {
   "cell_type": "markdown",
   "metadata": {},
   "source": [
    "# 전체 년도 데이터 크롤링"
   ]
  },
  {
   "cell_type": "code",
   "execution_count": 3,
   "metadata": {},
   "outputs": [],
   "source": [
    "from selenium.webdriver.common.keys import Keys\n",
    "from selenium import webdriver\n",
    "from bs4 import BeautifulSoup\n",
    "from datetime import datetime, timedelta\n",
    "import time\n",
    "import pandas as pd\n",
    "import re\n",
    "import zipfile\n",
    "import os\n",
    "import requests\n",
    "from tqdm import tqdm"
   ]
  },
  {
   "cell_type": "code",
   "execution_count": 4,
   "metadata": {},
   "outputs": [],
   "source": [
    "driver = webdriver.Chrome('C:/chrome_driver/85/chromedriver.exe')\n",
    "driver.implicitly_wait(3)"
   ]
  },
  {
   "cell_type": "code",
   "execution_count": 5,
   "metadata": {},
   "outputs": [],
   "source": [
    "for category in category_list:\n",
    "    url = url_base.format(category=category)\n",
    "    driver.get(url)\n",
    "    driver.maximize_window()\n",
    "    \n",
    "    year_list = [x.strip() for x in driver.find_element_by_class_name('select03').text.split('\\n') if len(x)>1]"
   ]
  },
  {
   "cell_type": "code",
   "execution_count": 6,
   "metadata": {},
   "outputs": [
    {
     "data": {
      "text/plain": [
       "['2001',\n",
       " '2002',\n",
       " '2003',\n",
       " '2004',\n",
       " '2005',\n",
       " '2006',\n",
       " '2007',\n",
       " '2008',\n",
       " '2009',\n",
       " '2010',\n",
       " '2011',\n",
       " '2012',\n",
       " '2013',\n",
       " '2014',\n",
       " '2015',\n",
       " '2016',\n",
       " '2017',\n",
       " '2018',\n",
       " '2019',\n",
       " '2020']"
      ]
     },
     "execution_count": 6,
     "metadata": {},
     "output_type": "execute_result"
    }
   ],
   "source": [
    "year_list"
   ]
  },
  {
   "cell_type": "code",
   "execution_count": 7,
   "metadata": {},
   "outputs": [
    {
     "name": "stderr",
     "output_type": "stream",
     "text": [
      "100%|██████████████████████████████████████████████████████████████████████████████████| 20/20 [00:29<00:00,  1.48s/it]\n"
     ]
    }
   ],
   "source": [
    "for year in tqdm(year_list[:]):\n",
    "    driver.find_element_by_class_name('select03').click()\n",
    "    xpath_format = '//option[@value=\"{year}\"]'\n",
    "    driver.find_element_by_xpath(xpath_format.format(year=year)).click()\n",
    "    year_data_crawling(year)"
   ]
  },
  {
   "cell_type": "code",
   "execution_count": 8,
   "metadata": {},
   "outputs": [],
   "source": [
    "driver.close()"
   ]
  }
 ],
 "metadata": {
  "kernelspec": {
   "display_name": "Python 3",
   "language": "python",
   "name": "python3"
  },
  "language_info": {
   "codemirror_mode": {
    "name": "ipython",
    "version": 3
   },
   "file_extension": ".py",
   "mimetype": "text/x-python",
   "name": "python",
   "nbconvert_exporter": "python",
   "pygments_lexer": "ipython3",
   "version": "3.7.4"
  }
 },
 "nbformat": 4,
 "nbformat_minor": 2
}
