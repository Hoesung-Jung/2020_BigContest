{
 "cells": [
  {
   "cell_type": "markdown",
   "metadata": {},
   "source": [
    "# 모듈 선언 및 URL 경로 지정"
   ]
  },
  {
   "cell_type": "code",
   "execution_count": 1,
   "metadata": {},
   "outputs": [],
   "source": [
    "from selenium import webdriver\n",
    "import time\n",
    "import pandas as pd\n",
    "import numpy as np\n",
    "from tqdm import tqdm\n",
    "\n",
    "url_base = 'https://www.koreabaseball.com/Record/Team/{category}'\n",
    "category_list = ['Hitter/Basic1.aspx', 'Hitter/Basic2.aspx', 'Pitcher/Basic1.aspx', 'Pitcher/Basic2.aspx',\n",
    "                 'Defense/Basic.aspx', 'Runner/Basic.aspx']\n",
    "category_name_list = ['Hitter_1', 'Hitter_2', 'Pitcher_1', 'Pitcher_2', 'Defense', 'Runner']\n",
    "\n",
    "driver = webdriver.Chrome('C:/chrome_driver/85/chromedriver.exe')\n",
    "driver.implicitly_wait(3)"
   ]
  },
  {
   "cell_type": "markdown",
   "metadata": {},
   "source": [
    "# 연도 클릭 함수 선언"
   ]
  },
  {
   "cell_type": "code",
   "execution_count": 2,
   "metadata": {},
   "outputs": [],
   "source": [
    "def year_click(year):\n",
    "    driver.find_element_by_class_name('select03').click()\n",
    "    xpath_format = '//option[@value=\"{year}\"]'\n",
    "    driver.find_element_by_xpath(xpath_format.format(year=year)).click()"
   ]
  },
  {
   "cell_type": "markdown",
   "metadata": {},
   "source": [
    "# kBO 전체 데이터 크롤링"
   ]
  },
  {
   "cell_type": "code",
   "execution_count": 3,
   "metadata": {
    "scrolled": true
   },
   "outputs": [],
   "source": [
    "for category in category_list:\n",
    "    url = url_base.format(category = category) # 타자, 투수, 수비, 주루 데이터 선택\n",
    "    driver.get(url)\n",
    "    \n",
    "    year_list = [x.strip() for x in driver.find_element_by_class_name('select03').text.split('\\n') if len(x)>1] # 연도 리스트 추출\n",
    "    \n",
    "    for year in year_list:\n",
    "        year_click(str(year)) # 각 연도 클릭\n",
    "        time.sleep(0.1) # 대기\n",
    "        \n",
    "        temp_list = [x.split(' ') for x in driver.find_element_by_tag_name('table').text.split('\\n')] # 데이터리스트 생성\n",
    "                \n",
    "        for i in range(len(temp_list)):\n",
    "            for j in range(len(temp_list[i])):\n",
    "                if '합계'==str(temp_list[i][j]): # 마지막 행 삭제\n",
    "                    temp_list.pop(i)\n",
    "                    break\n",
    "                if '/' in str(temp_list[i][j]): # 이닝 표기문제 해결\n",
    "                    temp_list[i].pop(j)\n",
    "                    break\n",
    "                \n",
    "        temp_data = pd.DataFrame(temp_list[1:], columns=temp_list[0]) # 데이터리스트 --> 데이터프레임\n",
    "        temp_data.to_csv('1. Original Datasets/'+str(year)+'_'+str(category_name_list[category_list.index(category)])+'_data.csv',\n",
    "                         index=False, encoding='cp949') # 데이터프레임 저장"
   ]
  },
  {
   "cell_type": "code",
   "execution_count": 4,
   "metadata": {},
   "outputs": [],
   "source": [
    "driver.close()"
   ]
  }
 ],
 "metadata": {
  "kernelspec": {
   "display_name": "Python 3",
   "language": "python",
   "name": "python3"
  },
  "language_info": {
   "codemirror_mode": {
    "name": "ipython",
    "version": 3
   },
   "file_extension": ".py",
   "mimetype": "text/x-python",
   "name": "python",
   "nbconvert_exporter": "python",
   "pygments_lexer": "ipython3",
   "version": "3.7.4"
  }
 },
 "nbformat": 4,
 "nbformat_minor": 2
}
