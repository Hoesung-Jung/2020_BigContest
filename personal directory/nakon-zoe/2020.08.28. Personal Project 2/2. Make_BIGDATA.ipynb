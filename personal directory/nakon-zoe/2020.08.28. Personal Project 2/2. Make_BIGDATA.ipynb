{
 "cells": [
  {
   "cell_type": "markdown",
   "metadata": {},
   "source": [
    "# 팀 이름으로 정렬하기"
   ]
  },
  {
   "cell_type": "code",
   "execution_count": 1,
   "metadata": {},
   "outputs": [],
   "source": [
    "import pandas as pd"
   ]
  },
  {
   "cell_type": "code",
   "execution_count": 2,
   "metadata": {},
   "outputs": [],
   "source": [
    "year_list = [x for x in range(2001, 2021)]\n",
    "data_list = ['Defense', 'Hitter_1', 'Hitter_2', 'Pitcher_1', 'Pitcher_2', 'Runner']"
   ]
  },
  {
   "cell_type": "code",
   "execution_count": 3,
   "metadata": {
    "scrolled": false
   },
   "outputs": [],
   "source": [
    "DataFrame_list = []\n",
    "DataFrame_namelist = []\n",
    "for year in year_list:\n",
    "    for data in data_list:\n",
    "        globals()['DATA_'+str(year)+'_'+data] = pd.read_csv('1. Original Datasets/'+str(year)+'_'+data+'_data.csv', encoding='cp949')\n",
    "        DataFrame_list.append(pd.read_csv('1. Original Datasets/'+str(year)+'_'+data+'_data.csv', encoding='cp949'))\n",
    "        DataFrame_namelist.append('DATA_'+str(year)+'_'+data)"
   ]
  },
  {
   "cell_type": "code",
   "execution_count": 4,
   "metadata": {
    "scrolled": true
   },
   "outputs": [
    {
     "data": {
      "text/plain": [
       "['DATA_2001_Defense',\n",
       " 'DATA_2001_Hitter_1',\n",
       " 'DATA_2001_Hitter_2',\n",
       " 'DATA_2001_Pitcher_1',\n",
       " 'DATA_2001_Pitcher_2',\n",
       " 'DATA_2001_Runner',\n",
       " 'DATA_2002_Defense',\n",
       " 'DATA_2002_Hitter_1',\n",
       " 'DATA_2002_Hitter_2',\n",
       " 'DATA_2002_Pitcher_1',\n",
       " 'DATA_2002_Pitcher_2',\n",
       " 'DATA_2002_Runner',\n",
       " 'DATA_2003_Defense',\n",
       " 'DATA_2003_Hitter_1',\n",
       " 'DATA_2003_Hitter_2',\n",
       " 'DATA_2003_Pitcher_1',\n",
       " 'DATA_2003_Pitcher_2',\n",
       " 'DATA_2003_Runner',\n",
       " 'DATA_2004_Defense',\n",
       " 'DATA_2004_Hitter_1',\n",
       " 'DATA_2004_Hitter_2',\n",
       " 'DATA_2004_Pitcher_1',\n",
       " 'DATA_2004_Pitcher_2',\n",
       " 'DATA_2004_Runner',\n",
       " 'DATA_2005_Defense',\n",
       " 'DATA_2005_Hitter_1',\n",
       " 'DATA_2005_Hitter_2',\n",
       " 'DATA_2005_Pitcher_1',\n",
       " 'DATA_2005_Pitcher_2',\n",
       " 'DATA_2005_Runner',\n",
       " 'DATA_2006_Defense',\n",
       " 'DATA_2006_Hitter_1',\n",
       " 'DATA_2006_Hitter_2',\n",
       " 'DATA_2006_Pitcher_1',\n",
       " 'DATA_2006_Pitcher_2',\n",
       " 'DATA_2006_Runner',\n",
       " 'DATA_2007_Defense',\n",
       " 'DATA_2007_Hitter_1',\n",
       " 'DATA_2007_Hitter_2',\n",
       " 'DATA_2007_Pitcher_1',\n",
       " 'DATA_2007_Pitcher_2',\n",
       " 'DATA_2007_Runner',\n",
       " 'DATA_2008_Defense',\n",
       " 'DATA_2008_Hitter_1',\n",
       " 'DATA_2008_Hitter_2',\n",
       " 'DATA_2008_Pitcher_1',\n",
       " 'DATA_2008_Pitcher_2',\n",
       " 'DATA_2008_Runner',\n",
       " 'DATA_2009_Defense',\n",
       " 'DATA_2009_Hitter_1',\n",
       " 'DATA_2009_Hitter_2',\n",
       " 'DATA_2009_Pitcher_1',\n",
       " 'DATA_2009_Pitcher_2',\n",
       " 'DATA_2009_Runner',\n",
       " 'DATA_2010_Defense',\n",
       " 'DATA_2010_Hitter_1',\n",
       " 'DATA_2010_Hitter_2',\n",
       " 'DATA_2010_Pitcher_1',\n",
       " 'DATA_2010_Pitcher_2',\n",
       " 'DATA_2010_Runner',\n",
       " 'DATA_2011_Defense',\n",
       " 'DATA_2011_Hitter_1',\n",
       " 'DATA_2011_Hitter_2',\n",
       " 'DATA_2011_Pitcher_1',\n",
       " 'DATA_2011_Pitcher_2',\n",
       " 'DATA_2011_Runner',\n",
       " 'DATA_2012_Defense',\n",
       " 'DATA_2012_Hitter_1',\n",
       " 'DATA_2012_Hitter_2',\n",
       " 'DATA_2012_Pitcher_1',\n",
       " 'DATA_2012_Pitcher_2',\n",
       " 'DATA_2012_Runner',\n",
       " 'DATA_2013_Defense',\n",
       " 'DATA_2013_Hitter_1',\n",
       " 'DATA_2013_Hitter_2',\n",
       " 'DATA_2013_Pitcher_1',\n",
       " 'DATA_2013_Pitcher_2',\n",
       " 'DATA_2013_Runner',\n",
       " 'DATA_2014_Defense',\n",
       " 'DATA_2014_Hitter_1',\n",
       " 'DATA_2014_Hitter_2',\n",
       " 'DATA_2014_Pitcher_1',\n",
       " 'DATA_2014_Pitcher_2',\n",
       " 'DATA_2014_Runner',\n",
       " 'DATA_2015_Defense',\n",
       " 'DATA_2015_Hitter_1',\n",
       " 'DATA_2015_Hitter_2',\n",
       " 'DATA_2015_Pitcher_1',\n",
       " 'DATA_2015_Pitcher_2',\n",
       " 'DATA_2015_Runner',\n",
       " 'DATA_2016_Defense',\n",
       " 'DATA_2016_Hitter_1',\n",
       " 'DATA_2016_Hitter_2',\n",
       " 'DATA_2016_Pitcher_1',\n",
       " 'DATA_2016_Pitcher_2',\n",
       " 'DATA_2016_Runner',\n",
       " 'DATA_2017_Defense',\n",
       " 'DATA_2017_Hitter_1',\n",
       " 'DATA_2017_Hitter_2',\n",
       " 'DATA_2017_Pitcher_1',\n",
       " 'DATA_2017_Pitcher_2',\n",
       " 'DATA_2017_Runner',\n",
       " 'DATA_2018_Defense',\n",
       " 'DATA_2018_Hitter_1',\n",
       " 'DATA_2018_Hitter_2',\n",
       " 'DATA_2018_Pitcher_1',\n",
       " 'DATA_2018_Pitcher_2',\n",
       " 'DATA_2018_Runner',\n",
       " 'DATA_2019_Defense',\n",
       " 'DATA_2019_Hitter_1',\n",
       " 'DATA_2019_Hitter_2',\n",
       " 'DATA_2019_Pitcher_1',\n",
       " 'DATA_2019_Pitcher_2',\n",
       " 'DATA_2019_Runner',\n",
       " 'DATA_2020_Defense',\n",
       " 'DATA_2020_Hitter_1',\n",
       " 'DATA_2020_Hitter_2',\n",
       " 'DATA_2020_Pitcher_1',\n",
       " 'DATA_2020_Pitcher_2',\n",
       " 'DATA_2020_Runner']"
      ]
     },
     "execution_count": 4,
     "metadata": {},
     "output_type": "execute_result"
    }
   ],
   "source": [
    "DataFrame_namelist"
   ]
  },
  {
   "cell_type": "code",
   "execution_count": 5,
   "metadata": {},
   "outputs": [],
   "source": [
    "for idx in range(len(DataFrame_list)):\n",
    "    temp = DataFrame_list[idx].sort_values(by=['팀명'], ascending=True)\n",
    "    temp.to_csv('2. Sorted Datasets/'+str(DataFrame_namelist[idx])+'.csv', encoding='cp949', index=False)"
   ]
  },
  {
   "cell_type": "markdown",
   "metadata": {},
   "source": [
    "# 연도별로 전체 데이터 합치기"
   ]
  },
  {
   "cell_type": "code",
   "execution_count": 6,
   "metadata": {},
   "outputs": [],
   "source": [
    "year_list = [x for x in range(2001, 2021)]\n",
    "data_list = ['Defense', 'Hitter_1', 'Hitter_2', 'Pitcher_1', 'Pitcher_2', 'Runner']"
   ]
  },
  {
   "cell_type": "code",
   "execution_count": 7,
   "metadata": {},
   "outputs": [],
   "source": [
    "for year in year_list:   \n",
    "    df = pd.DataFrame()\n",
    "    \n",
    "    for data in data_list:\n",
    "        df = pd.concat([df, pd.read_csv('2. Sorted Datasets/DATA_'+str(year)+'_'+data+'.csv', encoding='cp949')], axis=1)\n",
    "        \n",
    "    del df['순위']\n",
    "    df.to_csv('3. Combined Datasets/DATA_'+str(year)+'.csv', encoding='cp949', index=False)"
   ]
  },
  {
   "cell_type": "markdown",
   "metadata": {},
   "source": [
    "# 빅데이터 만들기"
   ]
  },
  {
   "cell_type": "code",
   "execution_count": 8,
   "metadata": {},
   "outputs": [],
   "source": [
    "df = pd.DataFrame()\n",
    "\n",
    "for year in year_list:      \n",
    "    df = pd.concat([df, pd.read_csv('3. Combined Datasets/DATA_'+str(year)+'.csv', encoding='cp949')], axis=0)\n",
    "\n",
    "# 중복 열 제거\n",
    "df = df.T.drop_duplicates().T \n",
    "\n",
    "# W를 가장 오른쪽에 배치\n",
    "W_list = df['W'] \n",
    "del df['W']\n",
    "df['W'] = W_list\n",
    "\n",
    "# index 리셋\n",
    "df = df.reset_index(drop=True)\n",
    "\n",
    "# 팀명 한글 --> 코드 변환\n",
    "for i in range(len(df)):\n",
    "    if df['팀명'][i]=='두산':\n",
    "        df['팀명'][i]='OB'\n",
    "    elif df['팀명'][i]=='키움' or df['팀명'][i]=='넥센' or df['팀명'][i]=='히어로즈' or df['팀명'][i]=='우리':\n",
    "        df['팀명'][i]='WO'\n",
    "    elif df['팀명'][i]=='KIA':\n",
    "        df['팀명'][i]='HT'\n",
    "    elif df['팀명'][i]=='삼성':\n",
    "        df['팀명'][i]='SS'\n",
    "    elif df['팀명'][i]=='롯데':\n",
    "        df['팀명'][i]='LT'\n",
    "    elif df['팀명'][i]=='한화':\n",
    "        df['팀명'][i]='HH'\n",
    "    elif df['팀명'][i]=='현대':\n",
    "        df['팀명'][i]='HD'\n",
    "\n",
    "# 빅데이터 저장\n",
    "df.to_csv('4. BIGDATA/TOTAL_DATA.csv', encoding='cp949', index=False)"
   ]
  }
 ],
 "metadata": {
  "kernelspec": {
   "display_name": "Python 3",
   "language": "python",
   "name": "python3"
  },
  "language_info": {
   "codemirror_mode": {
    "name": "ipython",
    "version": 3
   },
   "file_extension": ".py",
   "mimetype": "text/x-python",
   "name": "python",
   "nbconvert_exporter": "python",
   "pygments_lexer": "ipython3",
   "version": "3.7.4"
  }
 },
 "nbformat": 4,
 "nbformat_minor": 2
}
