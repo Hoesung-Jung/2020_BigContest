{
 "cells": [
  {
   "cell_type": "code",
   "execution_count": 1,
   "metadata": {},
   "outputs": [],
   "source": [
    "# 2017 KBO\n",
    "def cal_x(arr):\n",
    "    array = []\n",
    "    for i in range(len(arr)):\n",
    "        team_lst = []\n",
    "        #if sum(arr[i][0:]) == 288:\n",
    "        team = arr[i][0]\n",
    "        g = arr[i][1] # 전체 게임 수\n",
    "#         w = arr[i][2]\n",
    "#         l = arr[i][4]\n",
    "        rs = arr[i][5] # 득점\n",
    "        ra = arr[i][6] # 실점\n",
    "        wr = arr[i][7] # 승률\n",
    "        team_lst.append(team)\n",
    "        x = ((rs + ra)/g) ** 0.287\n",
    "        team_lst.append(x)\n",
    "        ewr = (rs ** x / (rs ** x + ra ** x)) # 기대 승률\n",
    "        team_lst.append(ewr)\n",
    "        team_lst.append(wr)\n",
    "        array.append(team_lst)\n",
    "    return array"
   ]
  },
  {
   "cell_type": "code",
   "execution_count": 2,
   "metadata": {},
   "outputs": [
    {
     "name": "stdout",
     "output_type": "stream",
     "text": [
      "[['KIA', 2.0132248987597454, 0.5985217709236074, 0.608], ['두산', 1.9692994898793323, 0.6089543228216329, 0.596], ['롯데', 1.937964196238216, 0.528161805055163, 0.563], ['NC', 1.9707786305102772, 0.5263704294947738, 0.56], ['SK', 1.9696695337899193, 0.4961329050076046, 0.524], ['LG', 1.9113202245677972, 0.5152759959627624, 0.489], ['넥센', 1.978865024226476, 0.5159237501393235, 0.486], ['한화', 1.98032648858549, 0.4473624096126023, 0.43], ['삼성', 2.019855168982936, 0.40756612818362087, 0.396], ['kt', 1.9707786305102772, 0.3605526817263632, 0.347]]\n"
     ]
    }
   ],
   "source": [
    "arr = [['KIA', 144, 87, 1, 56, 906, 743, 0.608], # 경기수 승 무 패 득 실 승률\n",
    "       ['두산', 144, 84, 3, 57, 849, 678, 0.596], \n",
    "       ['롯데', 144, 80, 2, 62, 743, 701, 0.563], \n",
    "       ['NC', 144, 79, 3, 62, 786, 745, 0.56],\n",
    "       ['SK', 144, 75, 1, 68, 761, 767, 0.524],\n",
    "       ['LG', 144, 69, 3, 72, 699, 677, 0.489],\n",
    "       ['넥센', 144, 69, 2, 73, 789, 764, 0.486], \n",
    "       ['한화', 144, 61, 2, 81, 737, 820, 0.43], \n",
    "       ['삼성', 144, 55, 5, 84, 757, 911, 0.396], \n",
    "       ['kt', 144, 50, 0, 94, 655, 876, 0.347]]\n",
    "print(cal_x(arr))"
   ]
  },
  {
   "cell_type": "markdown",
   "metadata": {},
   "source": [
    "### 피타고리언 승률과 차이 많이 나는 팀 원인 분석 ==> 데이터 전처리 필요\n",
    "### 전, 후반기로 나누어 승률 추이 관찰"
   ]
  },
  {
   "cell_type": "code",
   "execution_count": null,
   "metadata": {},
   "outputs": [],
   "source": []
  }
 ],
 "metadata": {
  "kernelspec": {
   "display_name": "Python 3",
   "language": "python",
   "name": "python3"
  },
  "language_info": {
   "codemirror_mode": {
    "name": "ipython",
    "version": 3
   },
   "file_extension": ".py",
   "mimetype": "text/x-python",
   "name": "python",
   "nbconvert_exporter": "python",
   "pygments_lexer": "ipython3",
   "version": "3.7.4"
  }
 },
 "nbformat": 4,
 "nbformat_minor": 4
}
