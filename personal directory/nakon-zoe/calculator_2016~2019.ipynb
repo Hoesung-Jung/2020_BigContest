{
 "cells": [
  {
   "cell_type": "code",
   "execution_count": 1,
   "metadata": {},
   "outputs": [
    {
     "name": "stdout",
     "output_type": "stream",
     "text": [
      "Python 버전: 3.7.4 (default, Aug  9 2019, 18:34:13) [MSC v.1915 64 bit (AMD64)]\n"
     ]
    }
   ],
   "source": [
    "import numpy as np\n",
    "import matplotlib.pyplot as plt\n",
    "import matplotlib\n",
    "\n",
    "%matplotlib inline\n",
    "import warnings\n",
    "warnings.filterwarnings('ignore') #파이썬 Warning 무시\n",
    "\n",
    "import tensorflow as tf\n",
    "tf.compat.v1.logging.set_verbosity(tf.compat.v1.logging.ERROR) #텐서플로우 Warning은 무시하고 Error만 출력\n",
    "\n",
    "import sys\n",
    "print(\"Python 버전:\", sys.version)\n",
    "\n",
    "import platform\n",
    "\n",
    "if platform.system() == 'Windows':\n",
    "    matplotlib.rc('font', family='Malgun Gothic')\n",
    "elif platform.system() == 'Darwin':\n",
    "    matplotlib.rc('font', family='AppleGothic')\n",
    "else:\n",
    "    matplotlib.rc('font', family='NanumGothic')"
   ]
  },
  {
   "cell_type": "markdown",
   "metadata": {},
   "source": [
    "# 2016 KBO 피타고리언 승률"
   ]
  },
  {
   "cell_type": "code",
   "execution_count": 2,
   "metadata": {},
   "outputs": [],
   "source": [
    "# 2016 KBO\n",
    "def cal_x(arr):\n",
    "    array = []\n",
    "    for i in range(len(arr)):\n",
    "        team_lst = []\n",
    "        if sum(arr[i][1:5]) == 288:\n",
    "            team = arr[i][0]\n",
    "            g = arr[i][1] # 전체 게임 수\n",
    "    #         w = arr[i][2]\n",
    "    #         l = arr[i][4]\n",
    "            rs = arr[i][5] # 득점\n",
    "            ra = arr[i][6] # 실점\n",
    "            wr = arr[i][7] # 승률\n",
    "            team_lst.append(team)\n",
    "            x = ((rs + ra)/g) ** 0.287\n",
    "            team_lst.append(x)\n",
    "            ewr = (rs ** x / (rs ** x + ra ** x)) # 기대 승률\n",
    "            team_lst.append(ewr)\n",
    "            team_lst.append(wr)\n",
    "            array.append(team_lst)\n",
    "    return array"
   ]
  },
  {
   "cell_type": "code",
   "execution_count": 3,
   "metadata": {},
   "outputs": [
    {
     "data": {
      "text/plain": [
       "[['두산', 2.0019339307404524, 0.6528621249766254, 0.65],\n",
       " ['NC', 1.960366137965155, 0.5797086539090532, 0.589],\n",
       " ['넥센', 2.008656949579129, 0.5416718781616443, 0.538],\n",
       " ['LG', 1.962982141850754, 0.49740004100554097, 0.5],\n",
       " ['KIA', 2.010768437562548, 0.5439992409045892, 0.49],\n",
       " ['SK', 1.9933607033263094, 0.4868633503927946, 0.479],\n",
       " ['한화', 2.0278096252173343, 0.4766289288194907, 0.468],\n",
       " ['롯데', 2.012173041853624, 0.44394469942057146, 0.458],\n",
       " ['삼성', 2.03466407717796, 0.43781385409578005, 0.455],\n",
       " ['kt', 1.9955125978275852, 0.3448065785056982, 0.373]]"
      ]
     },
     "execution_count": 3,
     "metadata": {},
     "output_type": "execute_result"
    }
   ],
   "source": [
    "arr = [['두산', 144, 93, 1, 50, 935, 682, 0.650], \n",
    "       ['NC', 144, 83, 3, 58, 813, 690, 0.589], \n",
    "       ['넥센', 144, 77, 1, 66, 852, 784, 0.538], \n",
    "       ['LG', 144, 71, 2, 71, 753, 757, 0.500],\n",
    "       ['KIA', 144, 70, 1, 73, 857, 785, 0.490],\n",
    "       ['SK', 144, 69, 0, 75, 786, 807, 0.479],\n",
    "       ['한화', 144, 66, 3, 75, 826, 865, 0.468], \n",
    "       ['롯데', 144, 66, 0, 78, 777, 869, 0.458], \n",
    "       ['삼성', 144, 65, 1, 78, 803, 908, 0.455], \n",
    "       ['kt', 144, 53, 2, 89, 672, 927, 0.373]]\n",
    "lists2016=cal_x(arr)\n",
    "lists2016"
   ]
  },
  {
   "cell_type": "code",
   "execution_count": 4,
   "metadata": {},
   "outputs": [
    {
     "name": "stdout",
     "output_type": "stream",
     "text": [
      "['두산', 'NC', '넥센', 'LG', 'KIA', 'SK', '한화', '롯데', '삼성', 'kt']\n",
      "[0.6528621249766254, 0.5797086539090532, 0.5416718781616443, 0.49740004100554097, 0.5439992409045892, 0.4868633503927946, 0.4766289288194907, 0.44394469942057146, 0.43781385409578005, 0.3448065785056982]\n",
      "[0.65, 0.589, 0.538, 0.5, 0.49, 0.479, 0.468, 0.458, 0.455, 0.373]\n"
     ]
    },
    {
     "data": {
      "image/png": "[encoded data removed]",
      "text/plain": [
       "<Figure size 432x288 with 1 Axes>"
      ]
     },
     "metadata": {
      "needs_background": "light"
     },
     "output_type": "display_data"
    }
   ],
   "source": [
    "x_data=[]\n",
    "ewr_data=[]\n",
    "wr_data=[]\n",
    "for i in range(len(lists2016)):\n",
    "    x_data.append(lists2016[i][0])\n",
    "    ewr_data.append(lists2016[i][2])\n",
    "    wr_data.append(lists2016[i][3])\n",
    "    \n",
    "print(x_data)\n",
    "print(ewr_data)\n",
    "print(wr_data)\n",
    "\n",
    "plt.scatter(x_data, ewr_data)\n",
    "plt.plot(x_data, wr_data)\n",
    "plt.xlabel('Team Name')\n",
    "plt.ylabel('EWR & WR')\n",
    "plt.title('승률과 기대승률 (2016)')\n",
    "plt.legend(['WR', 'EWR'])\n",
    "plt.show()"
   ]
  },
  {
   "cell_type": "markdown",
   "metadata": {},
   "source": [
    "# 2017 KBO 피타고리언 승률"
   ]
  },
  {
   "cell_type": "code",
   "execution_count": 5,
   "metadata": {},
   "outputs": [],
   "source": [
    "# 2017 KBO\n",
    "def cal_x(arr):\n",
    "    array = []\n",
    "    for i in range(len(arr)):\n",
    "        team_lst = []\n",
    "        #if sum(arr[i][0:]) == 288:\n",
    "        team = arr[i][0]\n",
    "        g = arr[i][1] # 전체 게임 수\n",
    "#         w = arr[i][2]\n",
    "#         l = arr[i][4]\n",
    "        rs = arr[i][5] # 득점\n",
    "        ra = arr[i][6] # 실점\n",
    "        wr = arr[i][7] # 승률\n",
    "        team_lst.append(team)\n",
    "        x = ((rs + ra)/g) ** 0.287\n",
    "        team_lst.append(x)\n",
    "        ewr = (rs ** x / (rs ** x + ra ** x)) # 기대 승률\n",
    "        team_lst.append(ewr)\n",
    "        team_lst.append(wr)\n",
    "        array.append(team_lst)\n",
    "    return array"
   ]
  },
  {
   "cell_type": "code",
   "execution_count": 6,
   "metadata": {},
   "outputs": [
    {
     "data": {
      "text/plain": [
       "[['KIA', 2.0132248987597454, 0.5985217709236074, 0.608],\n",
       " ['두산', 1.9692994898793323, 0.6089543228216329, 0.596],\n",
       " ['롯데', 1.937964196238216, 0.528161805055163, 0.563],\n",
       " ['NC', 1.9707786305102772, 0.5263704294947738, 0.56],\n",
       " ['SK', 1.9696695337899193, 0.4961329050076046, 0.524],\n",
       " ['LG', 1.9113202245677972, 0.5152759959627624, 0.489],\n",
       " ['넥센', 1.978865024226476, 0.5159237501393235, 0.486],\n",
       " ['한화', 1.98032648858549, 0.4473624096126023, 0.43],\n",
       " ['삼성', 2.019855168982936, 0.40756612818362087, 0.396],\n",
       " ['kt', 1.9707786305102772, 0.3605526817263632, 0.347]]"
      ]
     },
     "execution_count": 6,
     "metadata": {},
     "output_type": "execute_result"
    }
   ],
   "source": [
    "arr = [['KIA', 144, 87, 1, 56, 906, 743, 0.608], # 경기수 승 무 패 득 실 승률\n",
    "       ['두산', 144, 84, 3, 57, 849, 678, 0.596], \n",
    "       ['롯데', 144, 80, 2, 62, 743, 701, 0.563], \n",
    "       ['NC', 144, 79, 3, 62, 786, 745, 0.56],\n",
    "       ['SK', 144, 75, 1, 68, 761, 767, 0.524],\n",
    "       ['LG', 144, 69, 3, 72, 699, 677, 0.489],\n",
    "       ['넥센', 144, 69, 2, 73, 789, 764, 0.486], \n",
    "       ['한화', 144, 61, 2, 81, 737, 820, 0.43], \n",
    "       ['삼성', 144, 55, 5, 84, 757, 911, 0.396], \n",
    "       ['kt', 144, 50, 0, 94, 655, 876, 0.347]]\n",
    "lists2017=cal_x(arr)\n",
    "lists2017"
   ]
  },
  {
   "cell_type": "code",
   "execution_count": 7,
   "metadata": {
    "scrolled": false
   },
   "outputs": [
    {
     "name": "stdout",
     "output_type": "stream",
     "text": [
      "['KIA', '두산', '롯데', 'NC', 'SK', 'LG', '넥센', '한화', '삼성', 'kt']\n",
      "[0.5985217709236074, 0.6089543228216329, 0.528161805055163, 0.5263704294947738, 0.4961329050076046, 0.5152759959627624, 0.5159237501393235, 0.4473624096126023, 0.40756612818362087, 0.3605526817263632]\n",
      "[0.608, 0.596, 0.563, 0.56, 0.524, 0.489, 0.486, 0.43, 0.396, 0.347]\n"
     ]
    },
    {
     "data": {
      "image/png": "[encoded data removed]",
      "text/plain": [
       "<Figure size 432x288 with 1 Axes>"
      ]
     },
     "metadata": {
      "needs_background": "light"
     },
     "output_type": "display_data"
    }
   ],
   "source": [
    "x_data=[]\n",
    "ewr_data=[]\n",
    "wr_data=[]\n",
    "for i in range(len(lists2017)):\n",
    "    x_data.append(lists2017[i][0])\n",
    "    ewr_data.append(lists2017[i][2])\n",
    "    wr_data.append(lists2017[i][3])\n",
    "    \n",
    "print(x_data)\n",
    "print(ewr_data)\n",
    "print(wr_data)\n",
    "\n",
    "plt.scatter(x_data, ewr_data)\n",
    "plt.plot(x_data, wr_data)\n",
    "plt.xlabel('Team Name')\n",
    "plt.ylabel('EWR & WR')\n",
    "plt.title('승률과 기대승률 (2017)')\n",
    "plt.legend(['WR', 'EWR'])\n",
    "plt.show()"
   ]
  },
  {
   "cell_type": "markdown",
   "metadata": {},
   "source": [
    "# 2018 KBO 피타고리언 승률"
   ]
  },
  {
   "cell_type": "code",
   "execution_count": 8,
   "metadata": {},
   "outputs": [],
   "source": [
    "# 2018 KBO\n",
    "def cal_x(arr):\n",
    "    array = []\n",
    "    for i in range(len(arr)):\n",
    "        team_lst = []\n",
    "        #if sum(arr[i][0:]) == 288:\n",
    "        team = arr[i][0]\n",
    "        g = arr[i][1] # 전체 게임 수\n",
    "#         w = arr[i][2]\n",
    "#         l = arr[i][4]\n",
    "        rs = arr[i][5] # 득점\n",
    "        ra = arr[i][6] # 실점\n",
    "        wr = arr[i][7] # 승률\n",
    "        team_lst.append(team)\n",
    "        x = ((rs + ra)/g) ** 0.287\n",
    "        team_lst.append(x)\n",
    "        ewr = (rs ** x / (rs ** x + ra ** x)) # 기대 승률\n",
    "        team_lst.append(ewr)\n",
    "        team_lst.append(wr)\n",
    "        array.append(team_lst)\n",
    "    return array"
   ]
  },
  {
   "cell_type": "code",
   "execution_count": 9,
   "metadata": {},
   "outputs": [
    {
     "data": {
      "text/plain": [
       "[['두산', 2.0309012420733867, 0.6108846387172773, 0.646],\n",
       " ['SK', 1.9806914363159178, 0.5633110485146462, 0.545],\n",
       " ['한화', 1.9554847066885668, 0.4790106194890715, 0.535],\n",
       " ['넥센', 1.997658742779035, 0.5279826334270579, 0.521],\n",
       " ['KIA', 2.0278096252173343, 0.5233710711805094, 0.4861],\n",
       " ['삼성', 1.9879555680817975, 0.48362704647395993, 0.4857],\n",
       " ['롯데', 2.0195075536506186, 0.4848602160868635, 0.479],\n",
       " ['LG', 1.9973014496630215, 0.48257248582588974, 0.476],\n",
       " ['kt', 1.9926421210721221, 0.45189239520181157, 0.418],\n",
       " ['NC', 1.9456299985807812, 0.3543216096413548, 0.406]]"
      ]
     },
     "execution_count": 9,
     "metadata": {},
     "output_type": "execute_result"
    }
   ],
   "source": [
    "arr = [['두산', 144, 93, 0, 51, 944, 756, 0.646],\n",
    "       ['SK', 144, 69, 0, 75, 829, 729, 0.545],\n",
    "       ['한화', 144, 77, 0, 67, 729, 761, 0.535], \n",
    "       ['넥센', 144, 75, 0, 69, 825, 780, 0.521], \n",
    "       ['KIA', 144, 70, 0, 74, 865, 826, 0.4861],\n",
    "       ['삼성', 144, 68, 4, 72, 776, 802, 0.4857],\n",
    "       ['롯데', 144, 68, 2, 74,821, 846, 0.479], \n",
    "       ['LG', 144, 68, 1, 75, 788, 816, 0.476],\n",
    "       ['kt', 144, 59, 3, 82, 757, 834, 0.418],\n",
    "       ['NC', 144, 58, 1, 85, 620, 844, 0.406]]\n",
    "lists2018=cal_x(arr)\n",
    "lists2018"
   ]
  },
  {
   "cell_type": "code",
   "execution_count": 10,
   "metadata": {},
   "outputs": [
    {
     "name": "stdout",
     "output_type": "stream",
     "text": [
      "['두산', 'SK', '한화', '넥센', 'KIA', '삼성', '롯데', 'LG', 'kt', 'NC']\n",
      "[0.6108846387172773, 0.5633110485146462, 0.4790106194890715, 0.5279826334270579, 0.5233710711805094, 0.48362704647395993, 0.4848602160868635, 0.48257248582588974, 0.45189239520181157, 0.3543216096413548]\n",
      "[0.646, 0.545, 0.535, 0.521, 0.4861, 0.4857, 0.479, 0.476, 0.418, 0.406]\n"
     ]
    },
    {
     "data": {
      "image/png": "[encoded data removed]",
      "text/plain": [
       "<Figure size 432x288 with 1 Axes>"
      ]
     },
     "metadata": {
      "needs_background": "light"
     },
     "output_type": "display_data"
    }
   ],
   "source": [
    "x_data=[]\n",
    "ewr_data=[]\n",
    "wr_data=[]\n",
    "for i in range(len(lists2018)):\n",
    "    x_data.append(lists2018[i][0])\n",
    "    ewr_data.append(lists2018[i][2])\n",
    "    wr_data.append(lists2018[i][3])\n",
    "    \n",
    "print(x_data)\n",
    "print(ewr_data)\n",
    "print(wr_data)\n",
    "\n",
    "plt.scatter(x_data, ewr_data)\n",
    "plt.plot(x_data, wr_data)\n",
    "plt.xlabel('Team Name')\n",
    "plt.ylabel('EWR & WR')\n",
    "plt.title('승률과 기대승률 (2018)')\n",
    "plt.legend(['WR', 'EWR'])\n",
    "plt.show()"
   ]
  },
  {
   "cell_type": "markdown",
   "metadata": {},
   "source": [
    "# 2019 KBO 피타고리언 승률"
   ]
  },
  {
   "cell_type": "code",
   "execution_count": 11,
   "metadata": {},
   "outputs": [],
   "source": [
    "# 2019 KBO\n",
    "def cal_x(arr):\n",
    "    array = []\n",
    "    for i in range(len(arr)):\n",
    "        team_lst = []\n",
    "        #if sum(arr[i][0:]) == 288:\n",
    "        team = arr[i][0]\n",
    "        g = arr[i][1] # 전체 게임 수\n",
    "#         w = arr[i][2]\n",
    "#         l = arr[i][4]\n",
    "        rs = arr[i][5] # 득점\n",
    "        ra = arr[i][6] # 실점\n",
    "        wr = arr[i][7] # 승률\n",
    "        team_lst.append(team)\n",
    "        x = ((rs + ra)/g) ** 0.287\n",
    "        team_lst.append(x)\n",
    "        ewr = (rs ** x / (rs ** x + ra ** x)) # 기대 승률\n",
    "        team_lst.append(ewr)\n",
    "        team_lst.append(wr)\n",
    "        array.append(team_lst)\n",
    "    return array"
   ]
  },
  {
   "cell_type": "code",
   "execution_count": 12,
   "metadata": {},
   "outputs": [
    {
     "data": {
      "text/plain": [
       "[['SK', 1.8381409396136381, 0.5828712851667703, 0.615],\n",
       " ['두산', 1.8745719868774005, 0.6332268086427498, 0.615],\n",
       " ['키움', 1.9016924192505795, 0.6433236781308013, 0.601],\n",
       " ['LG', 1.8695349591478698, 0.5058696189894952, 0.552],\n",
       " ['NC', 1.8824791798533393, 0.5309854989833359, 0.514],\n",
       " ['KT', 1.884959126031331, 0.49209255980644784, 0.5],\n",
       " ['KIA', 1.8919419734625786, 0.41651223008326627, 0.437],\n",
       " ['삼성', 1.9020960005156846, 0.4238135115883571, 0.42],\n",
       " ['한화', 1.898456082285005, 0.40892462944171665, 0.403],\n",
       " ['롯데', 1.8976448528336707, 0.37064952003537754, 0.34]]"
      ]
     },
     "execution_count": 12,
     "metadata": {},
     "output_type": "execute_result"
    }
   ],
   "source": [
    "arr = [['SK', 144, 88, 1, 55, 655, 546, 0.615],\n",
    "       ['두산', 144, 88, 1, 55, 736, 550, 0.615],\n",
    "       ['키움', 144, 86, 1, 57, 780, 572, 0.601], \n",
    "       ['LG', 144, 79, 1, 64, 641, 633, 0.552], \n",
    "       ['NC', 144, 73, 2, 69, 674, 631, 0.514],\n",
    "       ['KT', 144, 71, 2, 71, 650, 661, 0.500],\n",
    "       ['KIA', 144, 62, 2, 80, 605, 723, 0.437], \n",
    "       ['삼성', 144, 60, 1, 83, 622, 731, 0.420],\n",
    "       ['한화', 144, 58, 0, 86, 607, 737, 0.403],\n",
    "       ['롯데', 144, 48, 3, 93, 578, 764, 0.340]]\n",
    "lists2019=cal_x(arr)\n",
    "lists2019"
   ]
  },
  {
   "cell_type": "code",
   "execution_count": 13,
   "metadata": {},
   "outputs": [
    {
     "name": "stdout",
     "output_type": "stream",
     "text": [
      "['SK', '두산', '키움', 'LG', 'NC', 'KT', 'KIA', '삼성', '한화', '롯데']\n",
      "[0.5828712851667703, 0.6332268086427498, 0.6433236781308013, 0.5058696189894952, 0.5309854989833359, 0.49209255980644784, 0.41651223008326627, 0.4238135115883571, 0.40892462944171665, 0.37064952003537754]\n",
      "[0.615, 0.615, 0.601, 0.552, 0.514, 0.5, 0.437, 0.42, 0.403, 0.34]\n"
     ]
    },
    {
     "data": {
      "image/png": "[encoded data removed]",
      "text/plain": [
       "<Figure size 432x288 with 1 Axes>"
      ]
     },
     "metadata": {
      "needs_background": "light"
     },
     "output_type": "display_data"
    }
   ],
   "source": [
    "x_data=[]\n",
    "ewr_data=[]\n",
    "wr_data=[]\n",
    "for i in range(len(lists2019)):\n",
    "    x_data.append(lists2019[i][0])\n",
    "    ewr_data.append(lists2019[i][2])\n",
    "    wr_data.append(lists2019[i][3])\n",
    "    \n",
    "print(x_data)\n",
    "print(ewr_data)\n",
    "print(wr_data)\n",
    "\n",
    "plt.scatter(x_data, ewr_data)\n",
    "plt.plot(x_data, wr_data)\n",
    "plt.xlabel('Team Name')\n",
    "plt.ylabel('EWR & WR')\n",
    "plt.title('승률과 기대승률 (2019)')\n",
    "plt.legend(['WR', 'EWR'])\n",
    "plt.show()"
   ]
  }
 ],
 "metadata": {
  "kernelspec": {
   "display_name": "Python 3",
   "language": "python",
   "name": "python3"
  },
  "language_info": {
   "codemirror_mode": {
    "name": "ipython",
    "version": 3
   },
   "file_extension": ".py",
   "mimetype": "text/x-python",
   "name": "python",
   "nbconvert_exporter": "python",
   "pygments_lexer": "ipython3",
   "version": "3.7.4"
  }
 },
 "nbformat": 4,
 "nbformat_minor": 4
}
