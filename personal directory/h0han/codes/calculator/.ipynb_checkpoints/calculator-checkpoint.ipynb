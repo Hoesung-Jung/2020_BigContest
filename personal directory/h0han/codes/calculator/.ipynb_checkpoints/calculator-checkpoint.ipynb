{
 "cells": [
  {
   "cell_type": "code",
   "execution_count": 5,
   "metadata": {},
   "outputs": [],
   "source": [
    "# 2016 KBO\n",
    "def cal_x(arr):\n",
    "    array = []\n",
    "    for i in range(len(arr)):\n",
    "        team_lst = []\n",
    "        #if sum(arr[i][1:5]) == 288:\n",
    "        team = arr[i][0]\n",
    "        g = arr[i][1] # 전체 게임 수\n",
    "#         w = arr[i][2]\n",
    "#         l = arr[i][4]\n",
    "        rs = arr[i][5] # 득점\n",
    "        ra = arr[i][6] # 실점\n",
    "        wr = arr[i][7] # 승률\n",
    "        team_lst.append(team)\n",
    "        x = ((rs + ra)/g) ** 0.287\n",
    "        team_lst.append(x)\n",
    "        ewr = (rs ** x / (rs ** x + ra ** x)) # 기대 승률\n",
    "        team_lst.append(ewr)\n",
    "        team_lst.append(wr)\n",
    "        array.append(team_lst)\n",
    "    return array"
   ]
  },
  {
   "cell_type": "code",
   "execution_count": 6,
   "metadata": {},
   "outputs": [
    {
     "name": "stdout",
     "output_type": "stream",
     "text": [
      "[['두산', 2.0019339307404524, 0.6528621249766254, 0.65], ['NC', 1.960366137965155, 0.5797086539090532, 0.589], ['넥센', 2.008656949579129, 0.5416718781616443, 0.538], ['LG', 1.962982141850754, 0.49740004100554097, 0.5], ['KIA', 2.010768437562548, 0.5439992409045892, 0.49], ['SK', 1.9933607033263094, 0.4868633503927946, 0.479], ['한화', 2.0278096252173343, 0.4766289288194907, 0.468], ['롯데', 2.012173041853624, 0.44394469942057146, 0.458], ['삼성', 2.03466407717796, 0.43781385409578005, 0.455], ['kt', 1.9955125978275852, 0.3448065785056982, 0.373]]\n"
     ]
    }
   ],
   "source": [
    "arr = [['두산', 144, 93, 1, 50, 935, 682, 0.650], \n",
    "       ['NC', 144, 83, 3, 58, 813, 690, 0.589], \n",
    "       ['넥센', 144, 77, 1, 66, 852, 784, 0.538], \n",
    "       ['LG', 144, 71, 2, 71, 753, 757, 0.500],\n",
    "       ['KIA', 144, 70, 1, 73, 857, 785, 0.490],\n",
    "       ['SK', 144, 69, 0, 75, 786, 807, 0.479],\n",
    "       ['한화', 144, 66, 3, 75, 826, 865, 0.468], \n",
    "       ['롯데', 144, 66, 0, 78, 777, 869, 0.458], \n",
    "       ['삼성', 144, 65, 1, 78, 803, 908, 0.455], \n",
    "       ['kt', 144, 53, 2, 89, 672, 927, 0.373]]\n",
    "print(cal_x(arr))"
   ]
  },
  {
   "cell_type": "markdown",
   "metadata": {},
   "source": [
    "### 피타고리언 승률과 차이 많이 나는 팀 원인 분석 ==> 데이터 전처리 필요\n",
    "### 전, 후반기로 나누어 승률 추이 관찰"
   ]
  },
  {
   "cell_type": "code",
   "execution_count": 7,
   "metadata": {},
   "outputs": [
    {
     "name": "stdout",
     "output_type": "stream",
     "text": [
      "[['두산', 1.991996579861335, 0.6324284160721985, 0.597], ['NC', 2.0186084819888768, 0.5877649908462269, 0.574], ['넥센', 1.990121999807429, 0.543551048743267, 0.544], ['SK', 1.9506753657999103, 0.5357471944059766, 0.573], ['롯데', 1.9458532357788443, 0.5902597736931736, 0.525], ['KIA', 1.9542948311687514, 0.607081811365565, 0.515], ['한화', 1.9653828928258819, 0.49423998107854533, 0.526], ['LG', 1.9697435218501542, 0.5011600358648692, 0.492], ['삼성', 2.006224882306396, 0.4818452848761906, 0.339], ['kt', 1.9849771945517434, 0.4206987693315038, 0.281]]\n"
     ]
    }
   ],
   "source": [
    "# 2016 KBO 전반기 \n",
    "arr = [['두산', 83, 55, 1, 27, 520, 396, 0.597], \n",
    "       ['NC', 77, 47, 2, 28, 484, 406, 0.574], \n",
    "       ['넥센', 85, 48, 1, 36, 488, 447, 0.544], \n",
    "       ['SK', 85, 43, 0, 42, 452, 420, 0.573],\n",
    "       ['롯데', 82, 39, 0, 43, 456, 378, 0.525],\n",
    "       ['KIA', 83, 38, 1, 44, 476, 381, 0.515],\n",
    "       ['한화', 81, 34, 3, 44, 424, 429, 0.526], \n",
    "       ['LG', 80, 34, 1, 45, 425, 424, 0.492], \n",
    "       ['삼성', 83, 34, 1, 48, 461, 478, 0.339], \n",
    "       ['kt', 81, 32, 2, 47, 406, 477, 0.281]]\n",
    "print(cal_x(arr))"
   ]
  },
  {
   "cell_type": "code",
   "execution_count": 4,
   "metadata": {},
   "outputs": [
    {
     "ename": "UnicodeDecodeError",
     "evalue": "'cp949' codec can't decode byte 0xeb in position 2: illegal multibyte sequence",
     "output_type": "error",
     "traceback": [
      "\u001b[1;31m---------------------------------------------------------------------------\u001b[0m",
      "\u001b[1;31mUnicodeDecodeError\u001b[0m                        Traceback (most recent call last)",
      "\u001b[1;32m<ipython-input-4-26a9c66b2ea4>\u001b[0m in \u001b[0;36m<module>\u001b[1;34m\u001b[0m\n\u001b[0;32m      1\u001b[0m \u001b[1;32mwith\u001b[0m \u001b[0mopen\u001b[0m\u001b[1;33m(\u001b[0m\u001b[1;34m'2016a.txt'\u001b[0m\u001b[1;33m,\u001b[0m \u001b[1;34m'r'\u001b[0m\u001b[1;33m)\u001b[0m \u001b[1;32mas\u001b[0m \u001b[0mfile\u001b[0m\u001b[1;33m:\u001b[0m\u001b[1;33m\u001b[0m\u001b[1;33m\u001b[0m\u001b[0m\n\u001b[1;32m----> 2\u001b[1;33m     \u001b[0mf\u001b[0m \u001b[1;33m=\u001b[0m \u001b[0mfile\u001b[0m\u001b[1;33m.\u001b[0m\u001b[0mreadline\u001b[0m\u001b[1;33m(\u001b[0m\u001b[1;33m)\u001b[0m\u001b[1;33m\u001b[0m\u001b[1;33m\u001b[0m\u001b[0m\n\u001b[0m\u001b[0;32m      3\u001b[0m \u001b[0mprint\u001b[0m\u001b[1;33m(\u001b[0m\u001b[0mf\u001b[0m\u001b[1;33m)\u001b[0m\u001b[1;33m\u001b[0m\u001b[1;33m\u001b[0m\u001b[0m\n",
      "\u001b[1;31mUnicodeDecodeError\u001b[0m: 'cp949' codec can't decode byte 0xeb in position 2: illegal multibyte sequence"
     ]
    }
   ],
   "source": [
    "with open('2016a.txt', 'r') as file:\n",
    "    f = file.readline()\n",
    "print(f)"
   ]
  },
  {
   "cell_type": "code",
   "execution_count": null,
   "metadata": {},
   "outputs": [],
   "source": []
  }
 ],
 "metadata": {
  "kernelspec": {
   "display_name": "Python 3",
   "language": "python",
   "name": "python3"
  },
  "language_info": {
   "codemirror_mode": {
    "name": "ipython",
    "version": 3
   },
   "file_extension": ".py",
   "mimetype": "text/x-python",
   "name": "python",
   "nbconvert_exporter": "python",
   "pygments_lexer": "ipython3",
   "version": "3.7.4"
  }
 },
 "nbformat": 4,
 "nbformat_minor": 4
}
