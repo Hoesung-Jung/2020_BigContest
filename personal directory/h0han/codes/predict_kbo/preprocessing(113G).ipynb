{
 "cells": [
  {
   "cell_type": "markdown",
   "metadata": {},
   "source": [
    "# 2016~2019 data preprocessing(113G)"
   ]
  },
  {
   "cell_type": "code",
   "execution_count": 1,
   "metadata": {},
   "outputs": [],
   "source": [
    "import pandas as pd\n",
    "import numpy as np"
   ]
  },
  {
   "cell_type": "code",
   "execution_count": 2,
   "metadata": {},
   "outputs": [],
   "source": [
    "df2016_team_pit = pd.read_csv('data/2020빅콘테스트_스포츠투아이_제공데이터_팀투수_2016.csv', engine = 'python')\n",
    "df2016_team_bat = pd.read_csv('data/2020빅콘테스트_스포츠투아이_제공데이터_팀타자_2016.csv', engine = 'python')\n",
    "df2017_team_pit = pd.read_csv('data/2020빅콘테스트_스포츠투아이_제공데이터_팀투수_2017.csv', engine = 'python')\n",
    "df2017_team_bat = pd.read_csv('data/2020빅콘테스트_스포츠투아이_제공데이터_팀타자_2017.csv', engine = 'python')\n",
    "df2018_team_pit = pd.read_csv('data/2020빅콘테스트_스포츠투아이_제공데이터_팀투수_2018.csv', engine = 'python')\n",
    "df2018_team_bat = pd.read_csv('data/2020빅콘테스트_스포츠투아이_제공데이터_팀타자_2018.csv', engine = 'python')\n",
    "df2019_team_pit = pd.read_csv('data/2020빅콘테스트_스포츠투아이_제공데이터_팀투수_2019.csv', engine = 'python')\n",
    "df2019_team_bat = pd.read_csv('data/2020빅콘테스트_스포츠투아이_제공데이터_팀타자_2019.csv', engine = 'python')\n",
    "# df2020_team_pit = pd.read_csv('data/2020빅콘테스트_스포츠투아이_제공데이터_팀투수_2020.csv', engine = 'python')\n",
    "# df2020_team_bat = pd.read_csv('data/2020빅콘테스트_스포츠투아이_제공데이터_팀타자_2020.csv', engine = 'python')"
   ]
  },
  {
   "cell_type": "code",
   "execution_count": 3,
   "metadata": {},
   "outputs": [],
   "source": [
    "# type(df[\"GDAY_DS\"][0])"
   ]
  },
  {
   "cell_type": "code",
   "execution_count": 4,
   "metadata": {},
   "outputs": [],
   "source": [
    "df2016_team_pit = df2016_team_pit.loc[df2016_team_pit[\"GDAY_DS\"] < 20160826] #2016년도의 113경기만큼을 분리\n",
    "df2016_team_bat = df2016_team_bat.loc[df2016_team_bat[\"GDAY_DS\"] < 20160826]\n",
    "df2017_team_pit = df2017_team_pit.loc[df2017_team_pit[\"GDAY_DS\"] < 20170823] #2017년도의 113경기만큼을 분리\n",
    "df2017_team_bat = df2017_team_bat.loc[df2017_team_bat[\"GDAY_DS\"] < 20170823]\n",
    "df2018_team_pit = df2018_team_pit.loc[df2018_team_pit[\"GDAY_DS\"] < 20180817] #2018년도의 113경기만큼을 분리\n",
    "df2018_team_bat = df2018_team_bat.loc[df2018_team_bat[\"GDAY_DS\"] < 20180817]\n",
    "df2019_team_pit = df2019_team_pit.loc[df2019_team_pit[\"GDAY_DS\"] < 20190819] #2019년도의 113경기만큼을 분리\n",
    "df2019_team_bat = df2019_team_bat.loc[df2019_team_bat[\"GDAY_DS\"] < 20190819]\n",
    "# df2020_team_pit = df2020_team_pit.loc[df2020_team_pit[\"GDAY_DS\"] < 20200928] #2020년도의 113경기만큼을 분리\n",
    "# df2020_team_bat = df2020_team_bat.loc[df2020_team_bat[\"GDAY_DS\"] < 20200928]"
   ]
  },
  {
   "cell_type": "markdown",
   "metadata": {},
   "source": [
    "## Generate yearID"
   ]
  },
  {
   "cell_type": "code",
   "execution_count": 5,
   "metadata": {},
   "outputs": [],
   "source": [
    "def yearID(df, year):\n",
    "    df['G_ID'] = year\n",
    "    df.rename(columns={'G_ID':'yearID'}, inplace =True)"
   ]
  },
  {
   "cell_type": "code",
   "execution_count": 6,
   "metadata": {},
   "outputs": [],
   "source": [
    "yearID(df2016_team_pit,2016)\n",
    "yearID(df2016_team_bat,2016)\n",
    "yearID(df2017_team_pit,2017)\n",
    "yearID(df2017_team_bat,2017)\n",
    "yearID(df2018_team_pit,2018)\n",
    "yearID(df2018_team_bat,2018)\n",
    "yearID(df2019_team_pit,2019)\n",
    "yearID(df2019_team_bat,2019)\n",
    "# yearID(df2020_team_pit,2020)\n",
    "# yearID(df2020_team_bat,2020)"
   ]
  },
  {
   "cell_type": "markdown",
   "metadata": {},
   "source": [
    "## Generate teamID"
   ]
  },
  {
   "cell_type": "code",
   "execution_count": 7,
   "metadata": {},
   "outputs": [],
   "source": [
    "def teamID(df):\n",
    "    df.rename(columns={'T_ID':'teamID'}, inplace =True)"
   ]
  },
  {
   "cell_type": "code",
   "execution_count": 8,
   "metadata": {},
   "outputs": [],
   "source": [
    "teamID(df2016_team_pit)\n",
    "teamID(df2016_team_bat)\n",
    "teamID(df2017_team_pit)\n",
    "teamID(df2017_team_bat)\n",
    "teamID(df2018_team_pit)\n",
    "teamID(df2018_team_bat)\n",
    "teamID(df2019_team_pit)\n",
    "teamID(df2019_team_bat)\n",
    "# teamID(df2020_team_pit)\n",
    "# teamID(df2020_team_bat)"
   ]
  },
  {
   "cell_type": "markdown",
   "metadata": {},
   "source": [
    "## Generate franchID"
   ]
  },
  {
   "cell_type": "code",
   "execution_count": 9,
   "metadata": {},
   "outputs": [],
   "source": [
    "# 팀투수 데이터 기준\n",
    "def franchID(df):\n",
    "    franchID = []\n",
    "    for i in df['teamID']:\n",
    "        if i == 'HH':\n",
    "            franchID.append('DJ')\n",
    "        elif i == 'HT':\n",
    "            franchID.append('GJ')\n",
    "        elif i == 'KT':\n",
    "            franchID.append('SW')\n",
    "        elif i == 'LG':\n",
    "            franchID.append('SO')\n",
    "        elif i == 'LT':\n",
    "            franchID.append('BS')\n",
    "        elif i == 'NC':\n",
    "            franchID.append('MS')\n",
    "        elif i == 'OB':\n",
    "            franchID.append('SO')\n",
    "        elif i == 'SK':\n",
    "            franchID.append('IC')\n",
    "        elif i == 'SS':\n",
    "            franchID.append('DG')\n",
    "        elif i == 'WO':\n",
    "            franchID.append('SO')\n",
    "    df['franchID'] = franchID"
   ]
  },
  {
   "cell_type": "code",
   "execution_count": 10,
   "metadata": {},
   "outputs": [],
   "source": [
    "franchID(df2016_team_pit)\n",
    "franchID(df2016_team_bat)\n",
    "franchID(df2017_team_pit)\n",
    "franchID(df2017_team_bat)\n",
    "franchID(df2018_team_pit)\n",
    "franchID(df2018_team_bat)\n",
    "franchID(df2019_team_pit)\n",
    "franchID(df2019_team_bat)\n",
    "# franchID(df2020_team_pit)\n",
    "# franchID(df2020_team_bat)"
   ]
  },
  {
   "cell_type": "code",
   "execution_count": 11,
   "metadata": {},
   "outputs": [],
   "source": [
    "def rank(df,rank_list):\n",
    "    rank = []\n",
    "    for i in df['teamID']:\n",
    "        if i == 'HH':\n",
    "            rank.append(rank_list[0])\n",
    "        elif i == 'HT':\n",
    "            rank.append(rank_list[1])\n",
    "        elif i == 'KT':\n",
    "            rank.append(rank_list[2])\n",
    "        elif i == 'LG':\n",
    "            rank.append(rank_list[3])\n",
    "        elif i == 'LT':\n",
    "            rank.append(rank_list[4])\n",
    "        elif i == 'NC':\n",
    "             rank.append(rank_list[5])\n",
    "        elif i == 'OB':\n",
    "            rank.append(rank_list[6])\n",
    "        elif i == 'SK':\n",
    "            rank.append(rank_list[7])\n",
    "        elif i == 'SS':\n",
    "            rank.append(rank_list[8])\n",
    "        elif i == 'WO':\n",
    "            rank.append(rank_list[9])\n",
    "    df['Rank'] = rank"
   ]
  },
  {
   "cell_type": "markdown",
   "metadata": {},
   "source": [
    "## W,L,D 추가 및 연도별 데이터 전환"
   ]
  },
  {
   "cell_type": "markdown",
   "metadata": {},
   "source": [
    "경기 결과에 따라 0,1,2(W,L,D)로 변환"
   ]
  },
  {
   "cell_type": "code",
   "execution_count": 12,
   "metadata": {},
   "outputs": [],
   "source": [
    "def WLS(df):\n",
    "    WLS = []\n",
    "    for i in df['WLS']:\n",
    "        if i == 'W':\n",
    "            WLS.append(0)\n",
    "        elif i == 'L':\n",
    "            WLS.append(1)\n",
    "        else:\n",
    "            WLS.append(2)\n",
    "\n",
    "    df['WLS'] = WLS"
   ]
  },
  {
   "cell_type": "code",
   "execution_count": 13,
   "metadata": {},
   "outputs": [],
   "source": [
    "WLS(df2016_team_pit)\n",
    "WLS(df2017_team_pit)\n",
    "WLS(df2018_team_pit)\n",
    "WLS(df2019_team_pit)\n",
    "# WLS(df2020_team_bat)"
   ]
  },
  {
   "cell_type": "code",
   "execution_count": 14,
   "metadata": {},
   "outputs": [],
   "source": [
    "def WLD(df):\n",
    "    team=df['teamID'].values[:10]\n",
    "    W=[]\n",
    "    L=[]\n",
    "    D=[]\n",
    "    for i in team:\n",
    "        w,l,d = 0,0,0\n",
    "        for j in df[df[\"teamID\"]==i]['WLS']:\n",
    "            if j == 0:\n",
    "                w += 1\n",
    "            elif j == 1:\n",
    "                l += 1\n",
    "            else:\n",
    "                d += 1\n",
    "        W.append(w)\n",
    "        L.append(l)\n",
    "        D.append(d)\n",
    "    return W,L,D"
   ]
  },
  {
   "cell_type": "markdown",
   "metadata": {},
   "source": [
    "## G, Ghome 세기"
   ]
  },
  {
   "cell_type": "code",
   "execution_count": 15,
   "metadata": {},
   "outputs": [],
   "source": [
    "def Gtotal(df):\n",
    "    G = len(df['GDAY_DS'])/10\n",
    "    return G\n",
    "\n",
    "def Ghome(df):\n",
    "    Ghome=[]\n",
    "    team = df[\"teamID\"].values[:10]\n",
    "    for i in team:\n",
    "        ghome =0\n",
    "        for j in df[df['teamID']==i]['TB_SC']:\n",
    "            if j == 'B':\n",
    "                ghome += 1\n",
    "        Ghome.append(ghome)\n",
    "    return Ghome"
   ]
  },
  {
   "cell_type": "markdown",
   "metadata": {},
   "source": [
    "## 연간 데이터 만들기"
   ]
  },
  {
   "cell_type": "code",
   "execution_count": 16,
   "metadata": {},
   "outputs": [],
   "source": [
    "#[한화, 기아, KT, LG, 롯데, NC, 두산, SK, 삼성, 키움]\n",
    "rank16 = [7,5,10,4,8,2,1,6,9,3]\n",
    "rank17 = [8,1,10,6,3,4,2,5,9,7]\n",
    "rank18 = [3,5,9,8,7,10,2,1,6,4]\n",
    "rank19 = [9,7,6,4,10,5,1,3,8,2]\n",
    "# rank20 = [10,5,6,3,7,1,4,9,8,2]"
   ]
  },
  {
   "cell_type": "code",
   "execution_count": 17,
   "metadata": {},
   "outputs": [],
   "source": [
    "G16 = Gtotal(df2016_team_pit)\n",
    "G17 = Gtotal(df2017_team_pit)\n",
    "G18 = Gtotal(df2018_team_pit)\n",
    "G19 = Gtotal(df2019_team_pit)\n",
    "# G20 = Gtotal(df2020_team_pit)"
   ]
  },
  {
   "cell_type": "code",
   "execution_count": 18,
   "metadata": {},
   "outputs": [],
   "source": [
    "Ghome16 = Ghome(df2016_team_pit)\n",
    "Ghome17 = Ghome(df2017_team_pit)\n",
    "Ghome18 = Ghome(df2018_team_pit)\n",
    "Ghome19 = Ghome(df2019_team_pit)\n",
    "# Ghome20 = Ghome(df2020_team_pit)"
   ]
  },
  {
   "cell_type": "markdown",
   "metadata": {},
   "source": [
    "## WSWin : 한국시리즈 우승"
   ]
  },
  {
   "cell_type": "code",
   "execution_count": 19,
   "metadata": {},
   "outputs": [],
   "source": [
    "def wswin(df, ws_list):\n",
    "    wswin = []\n",
    "    for i in df['teamID']:\n",
    "        if i == 'HH':\n",
    "            wswin.append(ws_list[0])\n",
    "        elif i == 'HT':\n",
    "            wswin.append(ws_list[1])\n",
    "        elif i == 'KT':\n",
    "            wswin.append(ws_list[2])\n",
    "        elif i == 'LG':\n",
    "            wswin.append(ws_list[3])\n",
    "        elif i == 'LT':\n",
    "            wswin.append(ws_list[4])\n",
    "        elif i == 'NC':\n",
    "            wswin.append(ws_list[5])\n",
    "        elif i == 'OB':\n",
    "            wswin.append(ws_list[6])\n",
    "        elif i == 'SK':\n",
    "            wswin.append(ws_list[7])\n",
    "        elif i == 'SS':\n",
    "            wswin.append(ws_list[8])\n",
    "        elif i == 'WO':\n",
    "            wswin.append(ws_list[9])\n",
    "    df['WSWin'] = wswin"
   ]
  },
  {
   "cell_type": "code",
   "execution_count": 20,
   "metadata": {},
   "outputs": [],
   "source": [
    "#[한화, 기아, KT, LG, 롯데, NC, 두산, SK, 삼성, 키움], 각 년도별 우승팀에게 1, 나머지 팀에게 0\n",
    "ws_list_16 = [0, 0, 0, 0, 0, 0, 1, 0, 0, 0]\n",
    "ws_list_17 = [0, 1, 0, 0, 0, 0, 0, 0, 0, 0]\n",
    "ws_list_18 = [0, 0, 0, 0, 0, 0, 0, 1, 0, 0]\n",
    "ws_list_19 = [0, 0, 0, 0, 0, 0, 1, 0, 0, 0]\n",
    "# ws_list_20 = [0, 0, 0, 0, 0, 0, 0, 0, 0]"
   ]
  },
  {
   "cell_type": "markdown",
   "metadata": {},
   "source": [
    "## R : 득점"
   ]
  },
  {
   "cell_type": "code",
   "execution_count": 21,
   "metadata": {},
   "outputs": [],
   "source": [
    "def run(df, df_):  # df에 타자 데이터 넣을 것\n",
    "    #df_ means dataframe that we will return as outcome\n",
    "    r_dict = {}\n",
    "    for i in range(len(df['teamID'])):\n",
    "        temp = df['teamID'][i]\n",
    "        if temp not in r_dict:\n",
    "            r_dict[temp] = df['RUN'][i]\n",
    "        else:\n",
    "            r_dict[temp] += df['RUN'][i]\n",
    "    df_['RUN'] = list(r_dict.values())\n",
    "#     return list(r_dict.values())"
   ]
  },
  {
   "cell_type": "code",
   "execution_count": 22,
   "metadata": {},
   "outputs": [],
   "source": [
    "# run(df2016_team_bat)"
   ]
  },
  {
   "cell_type": "markdown",
   "metadata": {},
   "source": [
    "## 타석 수"
   ]
  },
  {
   "cell_type": "code",
   "execution_count": 23,
   "metadata": {},
   "outputs": [],
   "source": [
    "# df2016_team_bat"
   ]
  },
  {
   "cell_type": "code",
   "execution_count": 24,
   "metadata": {},
   "outputs": [],
   "source": [
    "def ab(df, df_):  # df에 타자 데이터 넣을 것\n",
    "    AB_dict = {}\n",
    "    for i in range(len(df['teamID'])):\n",
    "        temp = df['teamID'][i]\n",
    "        if temp not in AB_dict:\n",
    "            AB_dict[temp] = df['AB'][i]\n",
    "        else:\n",
    "            AB_dict[temp] += df['AB'][i]\n",
    "    df_['AB'] = list(AB_dict.values())\n",
    "#     return AB_dict"
   ]
  },
  {
   "cell_type": "code",
   "execution_count": 25,
   "metadata": {},
   "outputs": [],
   "source": [
    "# ab(df2016_team_bat)"
   ]
  },
  {
   "cell_type": "markdown",
   "metadata": {},
   "source": [
    "## 안타 수"
   ]
  },
  {
   "cell_type": "code",
   "execution_count": 26,
   "metadata": {},
   "outputs": [],
   "source": [
    "def hit(df, df_):  # df에 타자 데이터 넣을 것\n",
    "    HIT_dict = {}\n",
    "    for i in range(len(df['teamID'])):\n",
    "        temp = df['teamID'][i]\n",
    "        if temp not in HIT_dict:\n",
    "            HIT_dict[temp] = df['HIT'][i]\n",
    "        else:\n",
    "            HIT_dict[temp] += df['HIT'][i]\n",
    "    df_['HIT'] = list(HIT_dict.values())\n",
    "#     return HIT_dict.valess"
   ]
  },
  {
   "cell_type": "code",
   "execution_count": 27,
   "metadata": {},
   "outputs": [],
   "source": [
    "# hit(df2016_team_bat)"
   ]
  },
  {
   "cell_type": "markdown",
   "metadata": {},
   "source": [
    "## 2루타"
   ]
  },
  {
   "cell_type": "code",
   "execution_count": 28,
   "metadata": {},
   "outputs": [],
   "source": [
    "def h2(df, df_):  # df에 타자 데이터 넣을 것\n",
    "    H2_dict = {}\n",
    "    for i in range(len(df['teamID'])):\n",
    "        temp = df['teamID'][i]\n",
    "        if temp not in H2_dict:\n",
    "            H2_dict[temp] = df['H2'][i]\n",
    "        else:\n",
    "            H2_dict[temp] += df['H2'][i]\n",
    "    df_['H2'] = list(H2_dict.values())\n",
    "#     return H2_dict"
   ]
  },
  {
   "cell_type": "code",
   "execution_count": 29,
   "metadata": {},
   "outputs": [],
   "source": [
    "# h2(df2016_team_bat)"
   ]
  },
  {
   "cell_type": "markdown",
   "metadata": {},
   "source": [
    "## 3루타"
   ]
  },
  {
   "cell_type": "code",
   "execution_count": 30,
   "metadata": {},
   "outputs": [],
   "source": [
    "def h3(df, df_):  # df에 타자 데이터 넣을 것\n",
    "    H3_dict = {}\n",
    "    for i in range(len(df['teamID'])):\n",
    "        temp = df['teamID'][i]\n",
    "        if temp not in H3_dict:\n",
    "            H3_dict[temp] = df['H3'][i]\n",
    "        else:\n",
    "            H3_dict[temp] += df['H3'][i]\n",
    "    df_['H3'] = list(H3_dict.values())\n",
    "#     return H3_dict"
   ]
  },
  {
   "cell_type": "code",
   "execution_count": 31,
   "metadata": {},
   "outputs": [],
   "source": [
    "# h3(df2016_team_bat)"
   ]
  },
  {
   "cell_type": "markdown",
   "metadata": {},
   "source": [
    "## 홈런"
   ]
  },
  {
   "cell_type": "code",
   "execution_count": 32,
   "metadata": {},
   "outputs": [],
   "source": [
    "def hr(df, df_):  # df에 타자 데이터 넣을 것\n",
    "    HR_dict = {}\n",
    "    for i in range(len(df['teamID'])):\n",
    "        temp = df['teamID'][i]\n",
    "        if temp not in HR_dict:\n",
    "            HR_dict[temp] = df['HR'][i]\n",
    "        else:\n",
    "            HR_dict[temp] += df['HR'][i]\n",
    "    df_['HR'] = list(HR_dict.values())\n",
    "#     return HR_dict"
   ]
  },
  {
   "cell_type": "code",
   "execution_count": 33,
   "metadata": {},
   "outputs": [],
   "source": [
    "# hr(df2016_team_bat)"
   ]
  },
  {
   "cell_type": "markdown",
   "metadata": {},
   "source": [
    "## 사사구"
   ]
  },
  {
   "cell_type": "code",
   "execution_count": 34,
   "metadata": {},
   "outputs": [],
   "source": [
    "def bb(df, df_):  #df에 투수 데이터 넣을 것\n",
    "    BB_dict = {}\n",
    "    for i in range(len(df['teamID'])):\n",
    "        temp = df['teamID'][i]\n",
    "        if temp not in BB_dict:\n",
    "            BB_dict[temp] = df['BB'][i]\n",
    "        else:\n",
    "            BB_dict[temp] += df['BB'][i]\n",
    "    df_['BB'] = list(BB_dict.values())\n",
    "#     return BB_dict"
   ]
  },
  {
   "cell_type": "code",
   "execution_count": 35,
   "metadata": {},
   "outputs": [],
   "source": [
    "# bb(df2016_team_pit)"
   ]
  },
  {
   "cell_type": "markdown",
   "metadata": {},
   "source": [
    "## 삼진"
   ]
  },
  {
   "cell_type": "code",
   "execution_count": 36,
   "metadata": {},
   "outputs": [],
   "source": [
    "def kk(df, df_):  #df에 투수 데이터 넣을 것\n",
    "    KK_dict = {}\n",
    "    for i in range(len(df['teamID'])):\n",
    "        temp = df['teamID'][i]\n",
    "        if temp not in KK_dict:\n",
    "            KK_dict[temp] = df['KK'][i]\n",
    "        else:\n",
    "            KK_dict[temp] += df['KK'][i]\n",
    "    df_['SO'] = list(KK_dict.values())\n",
    "#     return KK_dict"
   ]
  },
  {
   "cell_type": "markdown",
   "metadata": {},
   "source": [
    "## 도루"
   ]
  },
  {
   "cell_type": "code",
   "execution_count": 37,
   "metadata": {},
   "outputs": [],
   "source": [
    "def sb(df, df_):  # df에 타자 데이터 넣을 것\n",
    "    sb_dict = {}\n",
    "    for i in range(len(df['teamID'])):\n",
    "        temp = df['teamID'][i]\n",
    "        if temp not in sb_dict:\n",
    "            sb_dict[temp] = df['SB'][i]\n",
    "        else:\n",
    "            sb_dict[temp] += df['SB'][i]\n",
    "    df_['SB'] = list(sb_dict.values())\n",
    "#     return list(sb_dict.values())"
   ]
  },
  {
   "cell_type": "markdown",
   "metadata": {},
   "source": [
    "## 도루 실패"
   ]
  },
  {
   "cell_type": "code",
   "execution_count": 38,
   "metadata": {},
   "outputs": [],
   "source": [
    "def cs(df, df_):  # df에 타자 데이터 넣을 것\n",
    "    cs_dict = {}\n",
    "    for i in range(len(df['teamID'])):\n",
    "        temp = df['teamID'][i]\n",
    "        if temp not in cs_dict:\n",
    "            cs_dict[temp] = df['CS'][i]\n",
    "        else:\n",
    "            cs_dict[temp] += df['CS'][i]\n",
    "    df_['CS'] = list(cs_dict.values())"
   ]
  },
  {
   "cell_type": "markdown",
   "metadata": {},
   "source": [
    "## 몸에 맞는 볼"
   ]
  },
  {
   "cell_type": "code",
   "execution_count": 39,
   "metadata": {},
   "outputs": [],
   "source": [
    "def hbp(df, df_):  # df에 타자 데이터 넣을 것\n",
    "    hbp_dict = {}\n",
    "    for i in range(len(df['teamID'])):\n",
    "        tmp = df['teamID'][i]\n",
    "        if tmp not in hbp_dict:\n",
    "            hbp_dict[tmp] = df['HP'][i]\n",
    "        else:\n",
    "            hbp_dict[tmp] += df['HP'][i]\n",
    "    df_['HP'] = list(hbp_dict.values())"
   ]
  },
  {
   "cell_type": "markdown",
   "metadata": {},
   "source": [
    "## 희생플라이"
   ]
  },
  {
   "cell_type": "code",
   "execution_count": 40,
   "metadata": {},
   "outputs": [],
   "source": [
    "def sf(df, df_):  # df에 타자 데이터 넣을 것\n",
    "    sf_dict = {}\n",
    "    for i in range(len(df['teamID'])):\n",
    "        tmp = df['teamID'][i]\n",
    "        if tmp not in sf_dict:\n",
    "            sf_dict[tmp] = df['SF'][i]\n",
    "        else:\n",
    "            sf_dict[tmp] += df['SF'][i]\n",
    "    df_['SF'] = list(sf_dict.values())"
   ]
  },
  {
   "cell_type": "markdown",
   "metadata": {},
   "source": [
    "## 득점 허용(RA) : 자책 + 비자책"
   ]
  },
  {
   "cell_type": "code",
   "execution_count": 41,
   "metadata": {},
   "outputs": [],
   "source": [
    "def ra(df, df_):  # df에 투수 데이터 넣을 것\n",
    "    ra_dict = {}\n",
    "    for i in range(len(df['teamID'])):\n",
    "        tmp = df['teamID'][i]\n",
    "        if tmp not in ra_dict:\n",
    "            ra_dict[tmp] = df['R'][i]\n",
    "        else:\n",
    "            ra_dict[tmp] += df['R'][i]\n",
    "    df_['RA'] = list(ra_dict.values())"
   ]
  },
  {
   "cell_type": "markdown",
   "metadata": {},
   "source": [
    "## 득점 허용(ER) : 자책"
   ]
  },
  {
   "cell_type": "code",
   "execution_count": 42,
   "metadata": {},
   "outputs": [],
   "source": [
    "def er(df, df_):  # df에 투수 데이터 넣을 것\n",
    "    er_dict = {}\n",
    "    for i in range(len(df['teamID'])):\n",
    "        tmp = df['teamID'][i]\n",
    "        if tmp not in er_dict:\n",
    "            er_dict[tmp] = df['ER'][i]\n",
    "        else:\n",
    "            er_dict[tmp] += df['ER'][i]\n",
    "    df_['ER'] = list(er_dict.values())"
   ]
  },
  {
   "cell_type": "markdown",
   "metadata": {},
   "source": [
    "## 팀 방어율(ERA) : ER*9/inning"
   ]
  },
  {
   "cell_type": "code",
   "execution_count": 43,
   "metadata": {},
   "outputs": [],
   "source": [
    "def era(df, df_):  # df에 투수 데이터 넣을 것\n",
    "    inn_dict = {}\n",
    "    for i in range(len(df['teamID'])):\n",
    "        tmp = df['teamID'][i]\n",
    "        if tmp not in inn_dict:\n",
    "            inn_dict[tmp] = df['INN2'][i]/3\n",
    "        else:\n",
    "            inn_dict[tmp] += df['INN2'][i]/3\n",
    "    er_dict = {}\n",
    "    for j in range(len(df['teamID'])):\n",
    "        tmp = df['teamID'][j]\n",
    "        if tmp not in er_dict:\n",
    "            er_dict[tmp] = df['ER'][j]*9\n",
    "        else:\n",
    "            er_dict[tmp] += df['ER'][j]*9\n",
    "    era_lst = []\n",
    "    for k in range(len(inn_dict.keys())):\n",
    "        era_lst.append(round(list(er_dict.values())[k]/list(inn_dict.values())[k], 3))\n",
    "    df_['ERA'] = era_lst"
   ]
  },
  {
   "cell_type": "markdown",
   "metadata": {},
   "source": [
    "## 완투(CG) : 선발로 나온 투수가 전 이닝을 책임(승패 여부 상관 x)"
   ]
  },
  {
   "cell_type": "code",
   "execution_count": 55,
   "metadata": {
    "scrolled": false
   },
   "outputs": [],
   "source": [
    "# df2016_psnl_pit = pd.read_csv('data/2020빅콘테스트_스포츠투아이_제공데이터_개인투수_2016.csv', engine = 'python')\n",
    "# df2016_tp = pd.read_csv('data/2020빅콘테스트_스포츠투아이_제공데이터_팀투수_2016.csv', engine = 'python')\n",
    "# teamID(df2016_psnl_pit)\n",
    "# df2016_psnl_pit = df2016_psnl_pit.loc[df2016_psnl_pit[\"GDAY_DS\"] < 20160826]\n",
    "# df2016_tp = df2016_tp.loc[df2016_tp['GDAY_DS'] < 20160826]\n",
    "# # df2016_psnl_pit\n",
    "# # df2016_tp"
   ]
  },
  {
   "cell_type": "code",
   "execution_count": 45,
   "metadata": {
    "collapsed": true
   },
   "outputs": [
    {
     "data": {
      "text/plain": [
       "0       20160401HHLG0\n",
       "1       20160401HHLG0\n",
       "2       20160401HTNC0\n",
       "3       20160401HTNC0\n",
       "4       20160401KTSK0\n",
       "5       20160401KTSK0\n",
       "6       20160401LTWO0\n",
       "7       20160401LTWO0\n",
       "8       20160401OBSS0\n",
       "9       20160401OBSS0\n",
       "10      20160402HHLG0\n",
       "11      20160402HHLG0\n",
       "12      20160402HTNC0\n",
       "13      20160402HTNC0\n",
       "14      20160402KTSK0\n",
       "15      20160402KTSK0\n",
       "16      20160402LTWO0\n",
       "17      20160402LTWO0\n",
       "18      20160402OBSS0\n",
       "19      20160402OBSS0\n",
       "20      20160403KTSK0\n",
       "21      20160403KTSK0\n",
       "22      20160403LTWO0\n",
       "23      20160403LTWO0\n",
       "24      20160405LGHT0\n",
       "25      20160405LGHT0\n",
       "26      20160405NCOB0\n",
       "27      20160405NCOB0\n",
       "28      20160405SKLT0\n",
       "29      20160405SKLT0\n",
       "            ...      \n",
       "1102    20160821SKLT0\n",
       "1103    20160821SKLT0\n",
       "1104    20160821SSWO0\n",
       "1105    20160821SSWO0\n",
       "1106    20160823HTNC0\n",
       "1107    20160823HTNC0\n",
       "1108    20160823KTLT0\n",
       "1109    20160823KTLT0\n",
       "1110    20160823LGOB0\n",
       "1111    20160823LGOB0\n",
       "1112    20160823SKSS0\n",
       "1113    20160823SKSS0\n",
       "1114    20160824HTNC0\n",
       "1115    20160824HTNC0\n",
       "1116    20160824KTLT0\n",
       "1117    20160824KTLT0\n",
       "1118    20160824LGOB0\n",
       "1119    20160824LGOB0\n",
       "1120    20160824SKSS0\n",
       "1121    20160824SKSS0\n",
       "1122    20160824WOHH0\n",
       "1123    20160824WOHH0\n",
       "1124    20160825LGWO0\n",
       "1125    20160825LGWO0\n",
       "1126    20160825NCHH0\n",
       "1127    20160825NCHH0\n",
       "1128    20160825SKKT0\n",
       "1129    20160825SKKT0\n",
       "1130    20160825SSHT0\n",
       "1131    20160825SSHT0\n",
       "Name: G_ID, Length: 1132, dtype: object"
      ]
     },
     "execution_count": 45,
     "metadata": {},
     "output_type": "execute_result"
    }
   ],
   "source": [
    "# df2016_tp['G_ID']"
   ]
  },
  {
   "cell_type": "code",
   "execution_count": 52,
   "metadata": {},
   "outputs": [],
   "source": [
    "# df2016_psnl_pit['G_ID'][10]"
   ]
  },
  {
   "cell_type": "code",
   "execution_count": 47,
   "metadata": {},
   "outputs": [],
   "source": [
    "# df2016_tp = df2016_tp[(df2016_tp['G_ID'] == df2016_psnl_pit['G_ID'][20]) & (df2016_tp['T_ID'] == df2016_psnl_pit['teamID'][20])]\n",
    "# # # df2016_tp = df2016_tp[(df2016_tp['G_ID'] == df2016_psnl_pit['G_ID'][15]) & (df2016_tp['T_ID'] == df2016_psnl_pit['teamID'][15])]\n",
    "# # # type(df2016_tp['INN2'])\n",
    "# df2016_tp['INN2'].values[0]"
   ]
  },
  {
   "cell_type": "code",
   "execution_count": 48,
   "metadata": {},
   "outputs": [],
   "source": [
    "# def cg(df1, df2):\n",
    "def cg(df1, df2, df_):  # df1에는 개인투수, df2에는 전처리 되지 않은 팀투수 원본 데이터 투입\n",
    "    cg_dict = {}\n",
    "    for i in range(len(df1['teamID'])):\n",
    "        tmp = df1['teamID'][i]\n",
    "        if df1['START_CK'][i] == 1:\n",
    "            df_temp = df2[(df2['G_ID'] == df1['G_ID'][i]) & (df2['T_ID'] == df1['teamID'][i])]\n",
    "            if df1['INN2'][i] == df_temp['INN2'].item():\n",
    "                if tmp not in cg_dict:\n",
    "                    cg_dict[tmp] = 1\n",
    "                else:\n",
    "                    cg_dict[tmp] += 1\n",
    "    df_['CG'] = list(cg_dict.values())"
   ]
  },
  {
   "cell_type": "markdown",
   "metadata": {},
   "source": [
    "## 완봉"
   ]
  },
  {
   "cell_type": "code",
   "execution_count": 60,
   "metadata": {},
   "outputs": [],
   "source": [
    "# def sho(df1, df2):\n",
    "def sho(df1, df2, df_):  # df1에는 개인투수, df2에는 전처리 되지 않은 팀투수 원본\n",
    "    sho_dict = {}\n",
    "    for i in range(len(df1['teamID'])):\n",
    "        tmp = df1['teamID'][i]\n",
    "        if df1['WLS'][i] == 'W':\n",
    "            df_temp = df2[(df2['G_ID'] == df1['G_ID'][i]) & (df2['T_ID'] == df1['teamID'][i])]\n",
    "            if df1['INN2'][i] == df_temp['INN2'].item():\n",
    "                if tmp not in sho_dict:\n",
    "                    sho_dict[tmp] = 1\n",
    "                else:\n",
    "                    sho_dict[tmp] += 1\n",
    "    df_['SHO'] = list(sho_dict.values())\n",
    "#     return sho_dict"
   ]
  },
  {
   "cell_type": "code",
   "execution_count": 61,
   "metadata": {},
   "outputs": [],
   "source": [
    "# sho(df2016_psnl_pit, df2016_tp)"
   ]
  },
  {
   "cell_type": "markdown",
   "metadata": {},
   "source": [
    "## 에러"
   ]
  },
  {
   "cell_type": "code",
   "execution_count": 62,
   "metadata": {},
   "outputs": [],
   "source": [
    "def error(df, df_):\n",
    "    err_dict = {}\n",
    "    for i in range(len(df['teamID'])):\n",
    "        tmp = df['teamID'][i]\n",
    "        if tmp not in err_dict:\n",
    "            err_dict[tmp] = df['ERR'][i]\n",
    "        else:\n",
    "            err_dict[tmp] += df['ERR'][i]\n",
    "    df_['ERR'] = list(err_dict.values())"
   ]
  },
  {
   "cell_type": "markdown",
   "metadata": {},
   "source": [
    "## 탈병살"
   ]
  },
  {
   "cell_type": "code",
   "execution_count": 63,
   "metadata": {},
   "outputs": [],
   "source": [
    "def gd(df, df_):\n",
    "    gd_dict = {}\n",
    "    for i in range(len(df['teamID'])):\n",
    "        tmp = df['teamID'][i]\n",
    "        if tmp not in gd_dict:\n",
    "            gd_dict[tmp] = df['GD'][i]\n",
    "        else:\n",
    "            gd_dict[tmp] += df['GD'][i]\n",
    "    df_['GD'] = list(err_dict.values())"
   ]
  },
  {
   "cell_type": "code",
   "execution_count": 50,
   "metadata": {},
   "outputs": [
    {
     "ename": "TypeError",
     "evalue": "sb() missing 2 required positional arguments: 'df' and 'df_'",
     "output_type": "error",
     "traceback": [
      "\u001b[1;31m---------------------------------------------------------------------------\u001b[0m",
      "\u001b[1;31mTypeError\u001b[0m                                 Traceback (most recent call last)",
      "\u001b[1;32m<ipython-input-50-9e61999fb5c8>\u001b[0m in \u001b[0;36m<module>\u001b[1;34m()\u001b[0m\n\u001b[0;32m     21\u001b[0m \u001b[0mbb\u001b[0m\u001b[1;33m(\u001b[0m\u001b[0mdf2016_team_pit\u001b[0m\u001b[1;33m,\u001b[0m \u001b[0mdf16\u001b[0m\u001b[1;33m)\u001b[0m\u001b[1;33m\u001b[0m\u001b[0m\n\u001b[0;32m     22\u001b[0m \u001b[0mkk\u001b[0m\u001b[1;33m(\u001b[0m\u001b[0mdf2016_team_pit\u001b[0m\u001b[1;33m,\u001b[0m \u001b[0mdf16\u001b[0m\u001b[1;33m)\u001b[0m\u001b[1;33m\u001b[0m\u001b[0m\n\u001b[1;32m---> 23\u001b[1;33m \u001b[0msb\u001b[0m\u001b[1;33m(\u001b[0m\u001b[1;33m)\u001b[0m\u001b[1;33m\u001b[0m\u001b[0m\n\u001b[0m\u001b[0;32m     24\u001b[0m \u001b[1;33m\u001b[0m\u001b[0m\n\u001b[0;32m     25\u001b[0m \u001b[0mteam\u001b[0m \u001b[1;33m=\u001b[0m \u001b[0mdf2017_team_pit\u001b[0m\u001b[1;33m[\u001b[0m\u001b[1;34m\"teamID\"\u001b[0m\u001b[1;33m]\u001b[0m\u001b[1;33m.\u001b[0m\u001b[0mvalues\u001b[0m\u001b[1;33m[\u001b[0m\u001b[1;33m:\u001b[0m\u001b[1;36m10\u001b[0m\u001b[1;33m]\u001b[0m\u001b[1;33m\u001b[0m\u001b[0m\n",
      "\u001b[1;31mTypeError\u001b[0m: sb() missing 2 required positional arguments: 'df' and 'df_'"
     ]
    }
   ],
   "source": [
    "team = df2016_team_pit[\"teamID\"].values[:10]\n",
    "columns = ['yearID','teamID','franchID', 'Rank', 'G', 'Ghome','W','L','D', 'WSWin', 'RUN', 'AB', 'HIT', 'H2', 'H3', 'HR', 'BB', 'SO', 'SB', 'CS', 'HBP', 'SF', 'RA', 'ER', 'ERA', 'CG', 'SHO', 'ERR', 'GD']\n",
    "df2016_psnl_pit = pd.read_csv('data/2020빅콘테스트_스포츠투아이_제공데이터_개인투수_2016.csv', engine = 'python')\n",
    "df2016_tp = pd.read_csv('data/2020빅콘테스트_스포츠투아이_제공데이터_팀투수_2016.csv', engine = 'python')\n",
    "teamID(df2016_psnl_pit)\n",
    "df2016_psnl_pit = df2016_psnl_pit.loc[df2016_psnl_pit[\"GDAY_DS\"] < 20160826]\n",
    "df2016_tp = df2016_tp.loc[df2016_tp['GDAY_DS'] < 20160826]\n",
    "df16 = pd.DataFrame(columns=columns)\n",
    "df16['teamID']=team\n",
    "franchID(df16)\n",
    "rank(df16,rank16)\n",
    "w,l,d = WLD(df2016_team_pit)\n",
    "df16['W'] = w\n",
    "df16['L'] = l\n",
    "df16['D'] = d\n",
    "df16['G'] = G16\n",
    "df16['Ghome'] =Ghome16\n",
    "df16['yearID']=2016\n",
    "wswin(df16, ws_list_16)\n",
    "run(df2016_team_bat, df16)\n",
    "ab(df2016_team_bat, df16)\n",
    "hit(df2016_team_bat, df16)\n",
    "h2(df2016_team_bat, df16)\n",
    "h3(df2016_team_bat, df16)\n",
    "hr(df2016_team_bat, df16)\n",
    "bb(df2016_team_pit, df16)\n",
    "kk(df2016_team_pit, df16)\n",
    "sb(df2016_team_bat, df16)\n",
    "cs(df2016_team_bat, df16)\n",
    "hbp(df2016_team_bat, df16)\n",
    "sf(df2016_team_bat, df16)\n",
    "ra(df2016_team_pit, df16)\n",
    "er(df2016_team_pit, df16)\n",
    "era(df2016_team_pit, df16)\n",
    "cg(df2016_psnl_pit, df2016_tp, df16)\n",
    "sho(df2016_psnl_pit, df2016_tp, df16)\n",
    "error(df2016_team_pit, df16)\n",
    "gd(df2016_team_pit, df16)\n",
    "\n",
    "team = df2017_team_pit[\"teamID\"].values[:10]\n",
    "columns = ['yearID','teamID','franchID', 'Rank', 'G', 'Ghodef error(df, df_):\n",
    "    err_dict = {}\n",
    "    for i in range(len(df['teamID'])):\n",
    "        tmp = df['teamID'][i]\n",
    "        if tmp not in err_dict:\n",
    "            err_dict[tmp] = df['ERR'][i]\n",
    "        else:\n",
    "            err_dict[tmp] += df['ERR'][i]\n",
    "    df_['ERR'] = list(err_dict.values())me','W','L','D', 'WSWin', 'RUN', 'AB', 'HIT', 'H2', 'H3', 'HR', 'BB', 'SO']\n",
    "df17 = pd.DataFrame(columns=columns)\n",
    "df17['teamID']=team\n",
    "franchID(df17)\n",
    "rank(df17,rank17)\n",
    "w,l,d = WLD(df2017_team_pit)\n",
    "df17['W'] = w\n",
    "df17['L'] = l\n",
    "df17['D'] = d\n",
    "df17['G'] = G17\n",
    "df17['Ghome'] =Ghome17\n",
    "df17['yearID']=2017\n",
    "wswin(df17, ws_list_17)\n",
    "run(df2017_team_bat, df17)\n",
    "ab(df2017_team_bat, df17)\n",
    "hit(df2017_team_bat, df17)\n",
    "h2(df2017_team_bat, df17)\n",
    "h3(df2017_team_bat, df17)\n",
    "hr(df2017_team_bat, df17)\n",
    "bb(df2017_team_pit, df17)\n",
    "kk(df2017_team_pit, df17)\n",
    "\n",
    "team = df2018_team_pit[\"teamID\"].values[:10]\n",
    "columns = ['yearID','teamID','franchID', 'Rank', 'G', 'Ghome','W','L','D', 'WSWin', 'RUN', 'AB', 'HIT', 'H2', 'H3', 'HR', 'BB', 'SO']\n",
    "df18 = pd.DataFrame(columns=columns)\n",
    "df18['teamID']=team\n",
    "franchID(df18)\n",
    "rank(df18,rank18)\n",
    "w,l,d = WLD(df2018_team_pit)\n",
    "df18['W'] = w\n",
    "df18['L'] = l\n",
    "df18['D'] = d\n",
    "df18['G'] = G18\n",
    "df18['Ghome'] =Ghome18\n",
    "df18['yearID']=2018\n",
    "wswin(df18, ws_list_18)\n",
    "run(df2018_team_bat, df18)\n",
    "ab(df2018_team_bat, df18)\n",
    "hit(df2018_team_bat, df18)\n",
    "h2(df2018_team_bat, df18)\n",
    "h3(df2018_team_bat, df18)\n",
    "hr(df2018_team_bat, df18)\n",
    "bb(df2018_team_pit, df18)\n",
    "kk(df2018_team_pit, df18)\n",
    "\n",
    "team = df2019_team_pit[\"teamID\"].values[:10]\n",
    "columns = ['yearID','teamID','franchID', 'Rank', 'G', 'Ghome','W','L','D', 'WSWin', 'RUN', 'AB', 'HIT', 'H2', 'H3', 'HR', 'BB', 'SO']\n",
    "df19 = pd.DataFrame(columns=columns)\n",
    "df19['teamID']=team\n",
    "franchID(df19)\n",
    "rank(df19,rank19)\n",
    "w,l,d = WLD(df2019_team_pit)\n",
    "df19['W'] = w\n",
    "df19['L'] = l\n",
    "df19['D'] = d\n",
    "df19['G'] = G19\n",
    "df19['Ghome'] =Ghome19\n",
    "df19['yearID']=2019\n",
    "wswin(df19, ws_list_19)\n",
    "run(df2019_team_bat, df19)\n",
    "ab(df2019_team_bat, df19)\n",
    "hit(df2019_team_bat, df19)\n",
    "h2(df2019_team_bat, df19)\n",
    "h3(df2019_team_bat, df19)\n",
    "hr(df2019_team_bat, df19)\n",
    "bb(df2019_team_pit, df19)\n",
    "kk(df2019_team_pit, df19)\n",
    "\n",
    "# team = df2020_team_pit[\"teamID\"].values[:10]\n",
    "# columns = ['yearID','teamID','franchID', 'Rank', 'G', 'Ghome','W','L','D', 'WSWin', 'RUN', 'AB', 'HIT', 'H2', 'H3', 'HR', 'BB', 'SO']\n",
    "# df20 = pd.DataFrame(columns=columns)\n",
    "# df20['teamID']=team\n",
    "# franchID(df20)\n",
    "# rank(df20,rank20)\n",
    "# w,l,d = WLD(df2020_team_pit)\n",
    "# df20['W'] = w\n",
    "# df20['L'] = l\n",
    "# df20['D'] = d\n",
    "# df20['G'] = G20\n",
    "# df20['Ghome'] =Ghome20\n",
    "# df20['yearID']=2020\n",
    "# wswin(df20, ws_list_20)\n",
    "# run(df2020_team_bat, df20)\n",
    "# ab(df2020_team_bat, df20)\n",
    "# hit(df2020_team_bat, df20)\n",
    "# h2(df2020_team_bat, df20)\n",
    "# h3(df2020_team_bat, df20)\n",
    "# hr(df2020_team_bat, df20)\n",
    "# bb(df2020_team_pit, df20)\n",
    "# kk(df2020_team_pit, df20)"
   ]
  },
  {
   "cell_type": "code",
   "execution_count": null,
   "metadata": {},
   "outputs": [],
   "source": []
  },
  {
   "cell_type": "code",
   "execution_count": null,
   "metadata": {},
   "outputs": [],
   "source": [
    "df16"
   ]
  },
  {
   "cell_type": "code",
   "execution_count": null,
   "metadata": {},
   "outputs": [],
   "source": [
    "df17"
   ]
  },
  {
   "cell_type": "code",
   "execution_count": null,
   "metadata": {},
   "outputs": [],
   "source": [
    "df18"
   ]
  },
  {
   "cell_type": "code",
   "execution_count": null,
   "metadata": {},
   "outputs": [],
   "source": [
    "df19"
   ]
  },
  {
   "cell_type": "code",
   "execution_count": null,
   "metadata": {},
   "outputs": [],
   "source": [
    "df = pd.concat([df16, df17, df18, df19])\n",
    "# df = pd.concat([df16,df17,df18,df19,df20])\n",
    "df = df.sort_values(by=['yearID', 'teamID'], ascending=True)\n",
    "df.to_csv(\"preprocessing(2016-2019).csv\", index= False, encoding='cp949')"
   ]
  },
  {
   "cell_type": "code",
   "execution_count": null,
   "metadata": {},
   "outputs": [],
   "source": [
    "df2016_team_bat"
   ]
  },
  {
   "cell_type": "code",
   "execution_count": null,
   "metadata": {},
   "outputs": [],
   "source": [
    "a = 436/87\n",
    "a"
   ]
  },
  {
   "cell_type": "code",
   "execution_count": null,
   "metadata": {},
   "outputs": [],
   "source": [
    "a = 442/94\n",
    "a"
   ]
  },
  {
   "cell_type": "code",
   "execution_count": null,
   "metadata": {},
   "outputs": [],
   "source": [
    "a = 427/91\n",
    "a"
   ]
  },
  {
   "cell_type": "code",
   "execution_count": null,
   "metadata": {},
   "outputs": [],
   "source": [
    "a = 442/94\n",
    "a"
   ]
  },
  {
   "cell_type": "code",
   "execution_count": null,
   "metadata": {},
   "outputs": [],
   "source": [
    "a = 412*9/785.2\n",
    "a"
   ]
  },
  {
   "cell_type": "code",
   "execution_count": null,
   "metadata": {},
   "outputs": [],
   "source": []
  },
  {
   "cell_type": "code",
   "execution_count": null,
   "metadata": {},
   "outputs": [],
   "source": []
  },
  {
   "cell_type": "code",
   "execution_count": null,
   "metadata": {},
   "outputs": [],
   "source": []
  },
  {
   "cell_type": "code",
   "execution_count": null,
   "metadata": {},
   "outputs": [],
   "source": []
  }
 ],
 "metadata": {
  "kernelspec": {
   "display_name": "Python 3",
   "language": "python",
   "name": "python3"
  },
  "language_info": {
   "codemirror_mode": {
    "name": "ipython",
    "version": 3
   },
   "file_extension": ".py",
   "mimetype": "text/x-python",
   "name": "python",
   "nbconvert_exporter": "python",
   "pygments_lexer": "ipython3",
   "version": "3.7.0"
  }
 },
 "nbformat": 4,
 "nbformat_minor": 2
}
