{
 "cells": [
  {
   "cell_type": "markdown",
   "metadata": {},
   "source": [
    "## Extract 31G data"
   ]
  },
  {
   "cell_type": "code",
   "execution_count": 20,
   "metadata": {},
   "outputs": [],
   "source": [
    "import pandas as pd\n",
    "import numpy as np"
   ]
  },
  {
   "cell_type": "code",
   "execution_count": 21,
   "metadata": {},
   "outputs": [],
   "source": [
    "df2016_team_pit = pd.read_csv('data/2020빅콘테스트_스포츠투아이_제공데이터_팀투수_2016.csv', engine = 'python')\n",
    "# df2016_team_bat = pd.read_csv('data/2020빅콘테스트_스포츠투아이_제공데이터_팀타자_2016.csv', engine = 'python')\n",
    "df2017_team_pit = pd.read_csv('data/2020빅콘테스트_스포츠투아이_제공데이터_팀투수_2017.csv', engine = 'python')\n",
    "# df2017_team_bat = pd.read_csv('data/2020빅콘테스트_스포츠투아이_제공데이터_팀타자_2017.csv', engine = 'python')\n",
    "df2018_team_pit = pd.read_csv('data/2020빅콘테스트_스포츠투아이_제공데이터_팀투수_2018.csv', engine = 'python')\n",
    "# df2018_team_bat = pd.read_csv('data/2020빅콘테스트_스포츠투아이_제공데이터_팀타자_2018.csv', engine = 'python')\n",
    "df2019_team_pit = pd.read_csv('data/2020빅콘테스트_스포츠투아이_제공데이터_팀투수_2019.csv', engine = 'python')\n",
    "# df2019_team_bat = pd.read_csv('data/2020빅콘테스트_스포츠투아이_제공데이터_팀타자_2019.csv', engine = 'python')\n",
    "# df2020_team_pit = pd.read_csv('data/2020빅콘테스트_스포츠투아이_제공데이터_팀투수_2020.csv', engine = 'python')\n",
    "# df2020_team_bat = pd.read_csv('data/2020빅콘테스트_스포츠투아이_제공데이터_팀타자_2020.csv', engine = 'python')"
   ]
  },
  {
   "cell_type": "code",
   "execution_count": 22,
   "metadata": {},
   "outputs": [],
   "source": [
    "df2016_team_pit = df2016_team_pit.loc[df2016_team_pit[\"GDAY_DS\"] >= 20160826] #2016년도의 113경기만큼을 분리\n",
    "# df2016_team_bat = df2016_team_bat.loc[df2016_team_bat[\"GDAY_DS\"] >= 20160826]\n",
    "df2017_team_pit = df2017_team_pit.loc[df2017_team_pit[\"GDAY_DS\"] >= 20170823] #2017년도의 113경기만큼을 분리\n",
    "# df2017_team_bat = df2017_team_bat.loc[df2017_team_bat[\"GDAY_DS\"] >= 20170823]\n",
    "df2018_team_pit = df2018_team_pit.loc[df2018_team_pit[\"GDAY_DS\"] >= 20180817] #2018년도의 113경기만큼을 분리\n",
    "# df2018_team_bat = df2018_team_bat.loc[df2018_team_bat[\"GDAY_DS\"] >= 20180817]\n",
    "df2019_team_pit = df2019_team_pit.loc[df2019_team_pit[\"GDAY_DS\"] >= 20190819] #2019년도의 113경기만큼을 분리\n",
    "# df2019_team_bat = df2019_team_bat.loc[df2019_team_bat[\"GDAY_DS\"] >= 20190819]\n",
    "# df2020_team_pit = df2020_team_pit.loc[df2020_team_pit[\"GDAY_DS\"] >= 20200928] #2020년도의 113경기만큼을 분리\n",
    "# df2020_team_bat = df2020_team_bat.loc[df2020_team_bat[\"GDAY_DS\"] >= 20200928]"
   ]
  },
  {
   "cell_type": "markdown",
   "metadata": {},
   "source": [
    "## yearID"
   ]
  },
  {
   "cell_type": "code",
   "execution_count": 23,
   "metadata": {},
   "outputs": [],
   "source": [
    "def yearID(df, year):\n",
    "    df['G_ID'] = year\n",
    "    df.rename(columns={'G_ID':'yearID'}, inplace =True)"
   ]
  },
  {
   "cell_type": "code",
   "execution_count": 24,
   "metadata": {},
   "outputs": [],
   "source": [
    "yearID(df2016_team_pit, 2016)\n",
    "# yearID(df2016_team_bat, 2016)\n",
    "yearID(df2017_team_pit, 2017)\n",
    "# yearID(df2017_team_bat, 2017)\n",
    "yearID(df2018_team_pit, 2018)\n",
    "# yearID(df2018_team_bat, 2018)\n",
    "yearID(df2019_team_pit, 2019)\n",
    "# yearID(df2019_team_bat, 2019)\n",
    "# yearID(df2020_team_pit, 2020)\n",
    "# yearID(df2020_team_bat, 2020)"
   ]
  },
  {
   "cell_type": "markdown",
   "metadata": {},
   "source": [
    "## Generate teamID"
   ]
  },
  {
   "cell_type": "code",
   "execution_count": 25,
   "metadata": {},
   "outputs": [],
   "source": [
    "def teamID(df):\n",
    "    df.rename(columns={'T_ID':'teamID'}, inplace =True)"
   ]
  },
  {
   "cell_type": "code",
   "execution_count": 26,
   "metadata": {},
   "outputs": [],
   "source": [
    "teamID(df2016_team_pit)\n",
    "teamID(df2017_team_pit)\n",
    "teamID(df2018_team_pit)\n",
    "teamID(df2019_team_pit)\n",
    "# teamID(df2020_team_pit)\n"
   ]
  },
  {
   "cell_type": "markdown",
   "metadata": {},
   "source": [
    "## W,L,D 추가 및 연도별 데이터 전환"
   ]
  },
  {
   "cell_type": "code",
   "execution_count": 32,
   "metadata": {},
   "outputs": [],
   "source": [
    "def wld(df):\n",
    "# def wld(df, df_):\n",
    "    w_dict = {}\n",
    "    lose_dict = {}\n",
    "    draw_dict = {}\n",
    "    for i in range(len(df['teamID'])):\n",
    "        tmp = df['teamID'][i]\n",
    "        if df['WLS'][i] == 'W':\n",
    "            if tmp not in w_dict:\n",
    "                w_dict[tmp] = 1\n",
    "            else:\n",
    "                w_dict[tmp] += 1\n",
    "        elif df['WLS'][i] == 'L':\n",
    "            if tmp not in lose_dict:\n",
    "                lose_dict[tmp] = 1\n",
    "            else:\n",
    "                lose_dict[tmp] += 1\n",
    "        elif df['WLS'][i] == 'D':\n",
    "            if tmp not in draw_dict:\n",
    "                draw_dict[tmp] = 1\n",
    "            else:\n",
    "                draw_dict[tmp] += 1\n",
    "    return w_dict, lose_dict, draw_dict\n",
    "#     df_['W'] = list(w_dict.values())\n",
    "#     df_['L'] = list(lose_dict.values())\n",
    "#     df_['D'] = list(draw_dict.values())"
   ]
  },
  {
   "cell_type": "code",
   "execution_count": 33,
   "metadata": {},
   "outputs": [
    {
     "ename": "KeyError",
     "evalue": "0",
     "output_type": "error",
     "traceback": [
      "\u001b[1;31m---------------------------------------------------------------------------\u001b[0m",
      "\u001b[1;31mKeyError\u001b[0m                                  Traceback (most recent call last)",
      "\u001b[1;32m<ipython-input-33-64872ac5966f>\u001b[0m in \u001b[0;36m<module>\u001b[1;34m()\u001b[0m\n\u001b[1;32m----> 1\u001b[1;33m \u001b[0mwld\u001b[0m\u001b[1;33m(\u001b[0m\u001b[0mdf2016_team_pit\u001b[0m\u001b[1;33m)\u001b[0m\u001b[1;33m\u001b[0m\u001b[0m\n\u001b[0m",
      "\u001b[1;32m<ipython-input-32-143097a19e8a>\u001b[0m in \u001b[0;36mwld\u001b[1;34m(df)\u001b[0m\n\u001b[0;32m      5\u001b[0m     \u001b[0mdraw_dict\u001b[0m \u001b[1;33m=\u001b[0m \u001b[1;33m{\u001b[0m\u001b[1;33m}\u001b[0m\u001b[1;33m\u001b[0m\u001b[0m\n\u001b[0;32m      6\u001b[0m     \u001b[1;32mfor\u001b[0m \u001b[0mi\u001b[0m \u001b[1;32min\u001b[0m \u001b[0mrange\u001b[0m\u001b[1;33m(\u001b[0m\u001b[0mlen\u001b[0m\u001b[1;33m(\u001b[0m\u001b[0mdf\u001b[0m\u001b[1;33m[\u001b[0m\u001b[1;34m'teamID'\u001b[0m\u001b[1;33m]\u001b[0m\u001b[1;33m)\u001b[0m\u001b[1;33m)\u001b[0m\u001b[1;33m:\u001b[0m\u001b[1;33m\u001b[0m\u001b[0m\n\u001b[1;32m----> 7\u001b[1;33m         \u001b[0mtmp\u001b[0m \u001b[1;33m=\u001b[0m \u001b[0mdf\u001b[0m\u001b[1;33m[\u001b[0m\u001b[1;34m'teamID'\u001b[0m\u001b[1;33m]\u001b[0m\u001b[1;33m[\u001b[0m\u001b[0mi\u001b[0m\u001b[1;33m]\u001b[0m\u001b[1;33m\u001b[0m\u001b[0m\n\u001b[0m\u001b[0;32m      8\u001b[0m         \u001b[1;32mif\u001b[0m \u001b[0mdf\u001b[0m\u001b[1;33m[\u001b[0m\u001b[1;34m'WLS'\u001b[0m\u001b[1;33m]\u001b[0m\u001b[1;33m[\u001b[0m\u001b[0mi\u001b[0m\u001b[1;33m]\u001b[0m \u001b[1;33m==\u001b[0m \u001b[1;34m'W'\u001b[0m\u001b[1;33m:\u001b[0m\u001b[1;33m\u001b[0m\u001b[0m\n\u001b[0;32m      9\u001b[0m             \u001b[1;32mif\u001b[0m \u001b[0mtmp\u001b[0m \u001b[1;32mnot\u001b[0m \u001b[1;32min\u001b[0m \u001b[0mw_dict\u001b[0m\u001b[1;33m:\u001b[0m\u001b[1;33m\u001b[0m\u001b[0m\n",
      "\u001b[1;32m~\\anaconda3\\envs\\tf2\\lib\\site-packages\\pandas\\core\\series.py\u001b[0m in \u001b[0;36m__getitem__\u001b[1;34m(self, key)\u001b[0m\n\u001b[0;32m    765\u001b[0m         \u001b[0mkey\u001b[0m \u001b[1;33m=\u001b[0m \u001b[0mcom\u001b[0m\u001b[1;33m.\u001b[0m\u001b[0m_apply_if_callable\u001b[0m\u001b[1;33m(\u001b[0m\u001b[0mkey\u001b[0m\u001b[1;33m,\u001b[0m \u001b[0mself\u001b[0m\u001b[1;33m)\u001b[0m\u001b[1;33m\u001b[0m\u001b[0m\n\u001b[0;32m    766\u001b[0m         \u001b[1;32mtry\u001b[0m\u001b[1;33m:\u001b[0m\u001b[1;33m\u001b[0m\u001b[0m\n\u001b[1;32m--> 767\u001b[1;33m             \u001b[0mresult\u001b[0m \u001b[1;33m=\u001b[0m \u001b[0mself\u001b[0m\u001b[1;33m.\u001b[0m\u001b[0mindex\u001b[0m\u001b[1;33m.\u001b[0m\u001b[0mget_value\u001b[0m\u001b[1;33m(\u001b[0m\u001b[0mself\u001b[0m\u001b[1;33m,\u001b[0m \u001b[0mkey\u001b[0m\u001b[1;33m)\u001b[0m\u001b[1;33m\u001b[0m\u001b[0m\n\u001b[0m\u001b[0;32m    768\u001b[0m \u001b[1;33m\u001b[0m\u001b[0m\n\u001b[0;32m    769\u001b[0m             \u001b[1;32mif\u001b[0m \u001b[1;32mnot\u001b[0m \u001b[0mis_scalar\u001b[0m\u001b[1;33m(\u001b[0m\u001b[0mresult\u001b[0m\u001b[1;33m)\u001b[0m\u001b[1;33m:\u001b[0m\u001b[1;33m\u001b[0m\u001b[0m\n",
      "\u001b[1;32m~\\anaconda3\\envs\\tf2\\lib\\site-packages\\pandas\\core\\indexes\\base.py\u001b[0m in \u001b[0;36mget_value\u001b[1;34m(self, series, key)\u001b[0m\n\u001b[0;32m   3116\u001b[0m         \u001b[1;32mtry\u001b[0m\u001b[1;33m:\u001b[0m\u001b[1;33m\u001b[0m\u001b[0m\n\u001b[0;32m   3117\u001b[0m             return self._engine.get_value(s, k,\n\u001b[1;32m-> 3118\u001b[1;33m                                           tz=getattr(series.dtype, 'tz', None))\n\u001b[0m\u001b[0;32m   3119\u001b[0m         \u001b[1;32mexcept\u001b[0m \u001b[0mKeyError\u001b[0m \u001b[1;32mas\u001b[0m \u001b[0me1\u001b[0m\u001b[1;33m:\u001b[0m\u001b[1;33m\u001b[0m\u001b[0m\n\u001b[0;32m   3120\u001b[0m             \u001b[1;32mif\u001b[0m \u001b[0mlen\u001b[0m\u001b[1;33m(\u001b[0m\u001b[0mself\u001b[0m\u001b[1;33m)\u001b[0m \u001b[1;33m>\u001b[0m \u001b[1;36m0\u001b[0m \u001b[1;32mand\u001b[0m \u001b[0mself\u001b[0m\u001b[1;33m.\u001b[0m\u001b[0minferred_type\u001b[0m \u001b[1;32min\u001b[0m \u001b[1;33m[\u001b[0m\u001b[1;34m'integer'\u001b[0m\u001b[1;33m,\u001b[0m \u001b[1;34m'boolean'\u001b[0m\u001b[1;33m]\u001b[0m\u001b[1;33m:\u001b[0m\u001b[1;33m\u001b[0m\u001b[0m\n",
      "\u001b[1;32mpandas\\_libs\\index.pyx\u001b[0m in \u001b[0;36mpandas._libs.index.IndexEngine.get_value\u001b[1;34m()\u001b[0m\n",
      "\u001b[1;32mpandas\\_libs\\index.pyx\u001b[0m in \u001b[0;36mpandas._libs.index.IndexEngine.get_value\u001b[1;34m()\u001b[0m\n",
      "\u001b[1;32mpandas\\_libs\\index.pyx\u001b[0m in \u001b[0;36mpandas._libs.index.IndexEngine.get_loc\u001b[1;34m()\u001b[0m\n",
      "\u001b[1;32mpandas\\_libs\\hashtable_class_helper.pxi\u001b[0m in \u001b[0;36mpandas._libs.hashtable.Int64HashTable.get_item\u001b[1;34m()\u001b[0m\n",
      "\u001b[1;32mpandas\\_libs\\hashtable_class_helper.pxi\u001b[0m in \u001b[0;36mpandas._libs.hashtable.Int64HashTable.get_item\u001b[1;34m()\u001b[0m\n",
      "\u001b[1;31mKeyError\u001b[0m: 0"
     ]
    }
   ],
   "source": [
    "wld(df2016_team_pit)"
   ]
  },
  {
   "cell_type": "code",
   "execution_count": 9,
   "metadata": {},
   "outputs": [],
   "source": [
    "# def WLS(df):\n",
    "#     WLS = []\n",
    "#     for i in df['WLS']:\n",
    "#         if i == 'W':\n",
    "#             WLS.append(0)\n",
    "#         elif i == 'L':\n",
    "#             WLS.append(1)\n",
    "#         else:\n",
    "#             WLS.append(2)\n",
    "#     return WLS"
   ]
  },
  {
   "cell_type": "code",
   "execution_count": 10,
   "metadata": {},
   "outputs": [],
   "source": [
    "# WLS(df2016_team_pit)\n",
    "# WLS(df2017_team_pit)\n",
    "# WLS(df2018_team_pit)\n",
    "# WLS(df2019_team_pit)\n",
    "# # WLS(df2020_team_bat)"
   ]
  },
  {
   "cell_type": "code",
   "execution_count": 11,
   "metadata": {},
   "outputs": [],
   "source": [
    "# def WLD(df):\n",
    "#     team=df['teamID'].values[:10]\n",
    "#     W=[]\n",
    "#     L=[]\n",
    "#     D=[]\n",
    "#     for i in team:\n",
    "#         w,l,d = 0,0,0\n",
    "#         for j in df[df[\"teamID\"]==i]['WLS']:\n",
    "#             if j == 0:\n",
    "#                 w += 1\n",
    "#             elif j == 1:\n",
    "#                 l += 1\n",
    "#             else:\n",
    "#                 d += 1\n",
    "#         W.append(w)\n",
    "#         L.append(l)\n",
    "#         D.append(d)\n",
    "#     return W,L,D"
   ]
  },
  {
   "cell_type": "code",
   "execution_count": 12,
   "metadata": {},
   "outputs": [],
   "source": [
    "def win_rate(df):\n",
    "    lst = []\n",
    "    for i in range(len(df['teamID'])):\n",
    "        lst.append(round((df['W'][i] / (df['W'][i] + df['L'][i] + df['D'][i])), 3))\n",
    "    df['WinRate'] = lst"
   ]
  },
  {
   "cell_type": "code",
   "execution_count": 18,
   "metadata": {},
   "outputs": [
    {
     "ename": "KeyError",
     "evalue": "0",
     "output_type": "error",
     "traceback": [
      "\u001b[1;31m---------------------------------------------------------------------------\u001b[0m",
      "\u001b[1;31mKeyError\u001b[0m                                  Traceback (most recent call last)",
      "\u001b[1;32m<ipython-input-18-62a7c04c55fc>\u001b[0m in \u001b[0;36m<module>\u001b[1;34m()\u001b[0m\n\u001b[0;32m      8\u001b[0m \u001b[1;31m# df16['L'] = l\u001b[0m\u001b[1;33m\u001b[0m\u001b[1;33m\u001b[0m\u001b[0m\n\u001b[0;32m      9\u001b[0m \u001b[1;31m# df16['D'] = d\u001b[0m\u001b[1;33m\u001b[0m\u001b[1;33m\u001b[0m\u001b[0m\n\u001b[1;32m---> 10\u001b[1;33m \u001b[0mwld\u001b[0m\u001b[1;33m(\u001b[0m\u001b[0mdf2016_team_pit\u001b[0m\u001b[1;33m,\u001b[0m \u001b[0mdf16\u001b[0m\u001b[1;33m)\u001b[0m\u001b[1;33m\u001b[0m\u001b[0m\n\u001b[0m\u001b[0;32m     11\u001b[0m \u001b[0mwin_rate\u001b[0m\u001b[1;33m(\u001b[0m\u001b[0mdf16\u001b[0m\u001b[1;33m)\u001b[0m\u001b[1;33m\u001b[0m\u001b[0m\n\u001b[0;32m     12\u001b[0m \u001b[1;33m\u001b[0m\u001b[0m\n",
      "\u001b[1;32m<ipython-input-8-569d6fbbd1da>\u001b[0m in \u001b[0;36mwld\u001b[1;34m(df, df_)\u001b[0m\n\u001b[0;32m      4\u001b[0m     \u001b[0mdraw_dict\u001b[0m \u001b[1;33m=\u001b[0m \u001b[1;33m{\u001b[0m\u001b[1;33m}\u001b[0m\u001b[1;33m\u001b[0m\u001b[0m\n\u001b[0;32m      5\u001b[0m     \u001b[1;32mfor\u001b[0m \u001b[0mi\u001b[0m \u001b[1;32min\u001b[0m \u001b[0mrange\u001b[0m\u001b[1;33m(\u001b[0m\u001b[0mlen\u001b[0m\u001b[1;33m(\u001b[0m\u001b[0mdf\u001b[0m\u001b[1;33m[\u001b[0m\u001b[1;34m'teamID'\u001b[0m\u001b[1;33m]\u001b[0m\u001b[1;33m)\u001b[0m\u001b[1;33m)\u001b[0m\u001b[1;33m:\u001b[0m\u001b[1;33m\u001b[0m\u001b[0m\n\u001b[1;32m----> 6\u001b[1;33m         \u001b[0mtmp\u001b[0m \u001b[1;33m=\u001b[0m \u001b[0mdf\u001b[0m\u001b[1;33m[\u001b[0m\u001b[1;34m'teamID'\u001b[0m\u001b[1;33m]\u001b[0m\u001b[1;33m[\u001b[0m\u001b[0mi\u001b[0m\u001b[1;33m]\u001b[0m\u001b[1;33m\u001b[0m\u001b[0m\n\u001b[0m\u001b[0;32m      7\u001b[0m         \u001b[1;32mif\u001b[0m \u001b[0mdf\u001b[0m\u001b[1;33m[\u001b[0m\u001b[1;34m'WLS'\u001b[0m\u001b[1;33m]\u001b[0m\u001b[1;33m[\u001b[0m\u001b[0mi\u001b[0m\u001b[1;33m]\u001b[0m \u001b[1;33m==\u001b[0m \u001b[1;34m'W'\u001b[0m\u001b[1;33m:\u001b[0m\u001b[1;33m\u001b[0m\u001b[0m\n\u001b[0;32m      8\u001b[0m             \u001b[1;32mif\u001b[0m \u001b[0mtmp\u001b[0m \u001b[1;32mnot\u001b[0m \u001b[1;32min\u001b[0m \u001b[0mw_dict\u001b[0m\u001b[1;33m:\u001b[0m\u001b[1;33m\u001b[0m\u001b[0m\n",
      "\u001b[1;32m~\\anaconda3\\envs\\tf2\\lib\\site-packages\\pandas\\core\\series.py\u001b[0m in \u001b[0;36m__getitem__\u001b[1;34m(self, key)\u001b[0m\n\u001b[0;32m    765\u001b[0m         \u001b[0mkey\u001b[0m \u001b[1;33m=\u001b[0m \u001b[0mcom\u001b[0m\u001b[1;33m.\u001b[0m\u001b[0m_apply_if_callable\u001b[0m\u001b[1;33m(\u001b[0m\u001b[0mkey\u001b[0m\u001b[1;33m,\u001b[0m \u001b[0mself\u001b[0m\u001b[1;33m)\u001b[0m\u001b[1;33m\u001b[0m\u001b[0m\n\u001b[0;32m    766\u001b[0m         \u001b[1;32mtry\u001b[0m\u001b[1;33m:\u001b[0m\u001b[1;33m\u001b[0m\u001b[0m\n\u001b[1;32m--> 767\u001b[1;33m             \u001b[0mresult\u001b[0m \u001b[1;33m=\u001b[0m \u001b[0mself\u001b[0m\u001b[1;33m.\u001b[0m\u001b[0mindex\u001b[0m\u001b[1;33m.\u001b[0m\u001b[0mget_value\u001b[0m\u001b[1;33m(\u001b[0m\u001b[0mself\u001b[0m\u001b[1;33m,\u001b[0m \u001b[0mkey\u001b[0m\u001b[1;33m)\u001b[0m\u001b[1;33m\u001b[0m\u001b[0m\n\u001b[0m\u001b[0;32m    768\u001b[0m \u001b[1;33m\u001b[0m\u001b[0m\n\u001b[0;32m    769\u001b[0m             \u001b[1;32mif\u001b[0m \u001b[1;32mnot\u001b[0m \u001b[0mis_scalar\u001b[0m\u001b[1;33m(\u001b[0m\u001b[0mresult\u001b[0m\u001b[1;33m)\u001b[0m\u001b[1;33m:\u001b[0m\u001b[1;33m\u001b[0m\u001b[0m\n",
      "\u001b[1;32m~\\anaconda3\\envs\\tf2\\lib\\site-packages\\pandas\\core\\indexes\\base.py\u001b[0m in \u001b[0;36mget_value\u001b[1;34m(self, series, key)\u001b[0m\n\u001b[0;32m   3116\u001b[0m         \u001b[1;32mtry\u001b[0m\u001b[1;33m:\u001b[0m\u001b[1;33m\u001b[0m\u001b[0m\n\u001b[0;32m   3117\u001b[0m             return self._engine.get_value(s, k,\n\u001b[1;32m-> 3118\u001b[1;33m                                           tz=getattr(series.dtype, 'tz', None))\n\u001b[0m\u001b[0;32m   3119\u001b[0m         \u001b[1;32mexcept\u001b[0m \u001b[0mKeyError\u001b[0m \u001b[1;32mas\u001b[0m \u001b[0me1\u001b[0m\u001b[1;33m:\u001b[0m\u001b[1;33m\u001b[0m\u001b[0m\n\u001b[0;32m   3120\u001b[0m             \u001b[1;32mif\u001b[0m \u001b[0mlen\u001b[0m\u001b[1;33m(\u001b[0m\u001b[0mself\u001b[0m\u001b[1;33m)\u001b[0m \u001b[1;33m>\u001b[0m \u001b[1;36m0\u001b[0m \u001b[1;32mand\u001b[0m \u001b[0mself\u001b[0m\u001b[1;33m.\u001b[0m\u001b[0minferred_type\u001b[0m \u001b[1;32min\u001b[0m \u001b[1;33m[\u001b[0m\u001b[1;34m'integer'\u001b[0m\u001b[1;33m,\u001b[0m \u001b[1;34m'boolean'\u001b[0m\u001b[1;33m]\u001b[0m\u001b[1;33m:\u001b[0m\u001b[1;33m\u001b[0m\u001b[0m\n",
      "\u001b[1;32mpandas\\_libs\\index.pyx\u001b[0m in \u001b[0;36mpandas._libs.index.IndexEngine.get_value\u001b[1;34m()\u001b[0m\n",
      "\u001b[1;32mpandas\\_libs\\index.pyx\u001b[0m in \u001b[0;36mpandas._libs.index.IndexEngine.get_value\u001b[1;34m()\u001b[0m\n",
      "\u001b[1;32mpandas\\_libs\\index.pyx\u001b[0m in \u001b[0;36mpandas._libs.index.IndexEngine.get_loc\u001b[1;34m()\u001b[0m\n",
      "\u001b[1;32mpandas\\_libs\\hashtable_class_helper.pxi\u001b[0m in \u001b[0;36mpandas._libs.hashtable.Int64HashTable.get_item\u001b[1;34m()\u001b[0m\n",
      "\u001b[1;32mpandas\\_libs\\hashtable_class_helper.pxi\u001b[0m in \u001b[0;36mpandas._libs.hashtable.Int64HashTable.get_item\u001b[1;34m()\u001b[0m\n",
      "\u001b[1;31mKeyError\u001b[0m: 0"
     ]
    }
   ],
   "source": [
    "team = df2016_team_pit[\"teamID\"].values[:10]\n",
    "columns = ['yearID','teamID','W','L','D', 'WinRate']\n",
    "df16 = pd.DataFrame(columns=columns)\n",
    "df16['teamID']=team\n",
    "# w,l,d = WLD(df2016_team_pit)\n",
    "df16['yearID']=2016\n",
    "# df16['W'] = w\n",
    "# df16['L'] = l\n",
    "# df16['D'] = d\n",
    "wld(df2016_team_pit, df16)\n",
    "win_rate(df16)\n",
    "\n",
    "# team = df2017_team_pit[\"teamID\"].values[:10]\n",
    "# columns = ['yearID','teamID','W','L','D']\n",
    "# df17 = pd.DataFrame(columns=columns)\n",
    "# df17['teamID']=team\n",
    "# w,l,d = WLD(df2017_team_pit)\n",
    "# df17['yearID']=2017\n",
    "# df17['W'] = w\n",
    "# df17['L'] = l\n",
    "# df17['D'] = d\n",
    "# win_rate(df17)\n",
    "\n",
    "# team = df2018_team_pit[\"teamID\"].values[:10]\n",
    "# columns = ['yearID','teamID','W','L','D']\n",
    "# df18 = pd.DataFrame(columns=columns)\n",
    "# df18['teamID']=team\n",
    "# w,l,d = WLD(df2018_team_pit)\n",
    "# df18['yearID']=2018\n",
    "# df18['W'] = w\n",
    "# df18['L'] = l\n",
    "# df18['D'] = d\n",
    "# win_rate(df18)\n",
    "\n",
    "# team = df2019_team_pit[\"teamID\"].values[:10]\n",
    "# columns = ['yearID','teamID','W','L','D']\n",
    "# df19 = pd.DataFrame(columns=columns)\n",
    "# df19['teamID']=team\n",
    "# w,l,d = WLD(df2019_team_pit)\n",
    "# df19['yearID']=2019\n",
    "# df19['W'] = w\n",
    "# df19['L'] = l\n",
    "# df19['D'] = d\n",
    "# win_rate(df19)\n",
    "\n",
    "# # team = df2020_team_pit[\"teamID\"].values[:10]\n",
    "# # columns = ['yearID','teamID','W','L','D']\n",
    "# # df20 = pd.DataFrame(columns=columns)\n",
    "# # df20['teamID']=team\n",
    "# # w,l,d = WLD(df2020_team_pit)\n",
    "# # df20['yearID']=2020\n",
    "# # df20['W'] = w\n",
    "# # df20['L'] = l\n",
    "# # df20['D'] = d\n",
    "# # win_rate(df20)"
   ]
  },
  {
   "cell_type": "code",
   "execution_count": 19,
   "metadata": {},
   "outputs": [
    {
     "data": {
      "text/html": [
       "<div>\n",
       "<style scoped>\n",
       "    .dataframe tbody tr th:only-of-type {\n",
       "        vertical-align: middle;\n",
       "    }\n",
       "\n",
       "    .dataframe tbody tr th {\n",
       "        vertical-align: top;\n",
       "    }\n",
       "\n",
       "    .dataframe thead th {\n",
       "        text-align: right;\n",
       "    }\n",
       "</style>\n",
       "<table border=\"1\" class=\"dataframe\">\n",
       "  <thead>\n",
       "    <tr style=\"text-align: right;\">\n",
       "      <th></th>\n",
       "      <th>yearID</th>\n",
       "      <th>teamID</th>\n",
       "      <th>W</th>\n",
       "      <th>L</th>\n",
       "      <th>D</th>\n",
       "      <th>WinRate</th>\n",
       "    </tr>\n",
       "  </thead>\n",
       "  <tbody>\n",
       "    <tr>\n",
       "      <th>0</th>\n",
       "      <td>2016</td>\n",
       "      <td>WO</td>\n",
       "      <td>NaN</td>\n",
       "      <td>NaN</td>\n",
       "      <td>NaN</td>\n",
       "      <td>NaN</td>\n",
       "    </tr>\n",
       "    <tr>\n",
       "      <th>1</th>\n",
       "      <td>2016</td>\n",
       "      <td>LG</td>\n",
       "      <td>NaN</td>\n",
       "      <td>NaN</td>\n",
       "      <td>NaN</td>\n",
       "      <td>NaN</td>\n",
       "    </tr>\n",
       "    <tr>\n",
       "      <th>2</th>\n",
       "      <td>2016</td>\n",
       "      <td>OB</td>\n",
       "      <td>NaN</td>\n",
       "      <td>NaN</td>\n",
       "      <td>NaN</td>\n",
       "      <td>NaN</td>\n",
       "    </tr>\n",
       "    <tr>\n",
       "      <th>3</th>\n",
       "      <td>2016</td>\n",
       "      <td>LT</td>\n",
       "      <td>NaN</td>\n",
       "      <td>NaN</td>\n",
       "      <td>NaN</td>\n",
       "      <td>NaN</td>\n",
       "    </tr>\n",
       "    <tr>\n",
       "      <th>4</th>\n",
       "      <td>2016</td>\n",
       "      <td>HH</td>\n",
       "      <td>NaN</td>\n",
       "      <td>NaN</td>\n",
       "      <td>NaN</td>\n",
       "      <td>NaN</td>\n",
       "    </tr>\n",
       "    <tr>\n",
       "      <th>5</th>\n",
       "      <td>2016</td>\n",
       "      <td>NC</td>\n",
       "      <td>NaN</td>\n",
       "      <td>NaN</td>\n",
       "      <td>NaN</td>\n",
       "      <td>NaN</td>\n",
       "    </tr>\n",
       "    <tr>\n",
       "      <th>6</th>\n",
       "      <td>2016</td>\n",
       "      <td>KT</td>\n",
       "      <td>NaN</td>\n",
       "      <td>NaN</td>\n",
       "      <td>NaN</td>\n",
       "      <td>NaN</td>\n",
       "    </tr>\n",
       "    <tr>\n",
       "      <th>7</th>\n",
       "      <td>2016</td>\n",
       "      <td>SK</td>\n",
       "      <td>NaN</td>\n",
       "      <td>NaN</td>\n",
       "      <td>NaN</td>\n",
       "      <td>NaN</td>\n",
       "    </tr>\n",
       "    <tr>\n",
       "      <th>8</th>\n",
       "      <td>2016</td>\n",
       "      <td>SK</td>\n",
       "      <td>NaN</td>\n",
       "      <td>NaN</td>\n",
       "      <td>NaN</td>\n",
       "      <td>NaN</td>\n",
       "    </tr>\n",
       "    <tr>\n",
       "      <th>9</th>\n",
       "      <td>2016</td>\n",
       "      <td>HH</td>\n",
       "      <td>NaN</td>\n",
       "      <td>NaN</td>\n",
       "      <td>NaN</td>\n",
       "      <td>NaN</td>\n",
       "    </tr>\n",
       "  </tbody>\n",
       "</table>\n",
       "</div>"
      ],
      "text/plain": [
       "   yearID teamID    W    L    D WinRate\n",
       "0    2016     WO  NaN  NaN  NaN     NaN\n",
       "1    2016     LG  NaN  NaN  NaN     NaN\n",
       "2    2016     OB  NaN  NaN  NaN     NaN\n",
       "3    2016     LT  NaN  NaN  NaN     NaN\n",
       "4    2016     HH  NaN  NaN  NaN     NaN\n",
       "5    2016     NC  NaN  NaN  NaN     NaN\n",
       "6    2016     KT  NaN  NaN  NaN     NaN\n",
       "7    2016     SK  NaN  NaN  NaN     NaN\n",
       "8    2016     SK  NaN  NaN  NaN     NaN\n",
       "9    2016     HH  NaN  NaN  NaN     NaN"
      ]
     },
     "execution_count": 19,
     "metadata": {},
     "output_type": "execute_result"
    }
   ],
   "source": [
    "df16"
   ]
  },
  {
   "cell_type": "code",
   "execution_count": null,
   "metadata": {},
   "outputs": [],
   "source": [
    "df17"
   ]
  },
  {
   "cell_type": "code",
   "execution_count": null,
   "metadata": {},
   "outputs": [],
   "source": [
    "df = pd.concat([df16, df17, df18, df19])\n",
    "# df = pd.concat([df16,df17,df18,df19,df20])\n",
    "df = df.sort_values(by=['yearID', 'teamID'], ascending=True)\n",
    "df.to_csv(\"extract31g.csv\", index= False, encoding='cp949')"
   ]
  },
  {
   "cell_type": "code",
   "execution_count": null,
   "metadata": {},
   "outputs": [],
   "source": []
  }
 ],
 "metadata": {
  "kernelspec": {
   "display_name": "Python 3",
   "language": "python",
   "name": "python3"
  },
  "language_info": {
   "codemirror_mode": {
    "name": "ipython",
    "version": 3
   },
   "file_extension": ".py",
   "mimetype": "text/x-python",
   "name": "python",
   "nbconvert_exporter": "python",
   "pygments_lexer": "ipython3",
   "version": "3.7.0"
  }
 },
 "nbformat": 4,
 "nbformat_minor": 2
}
