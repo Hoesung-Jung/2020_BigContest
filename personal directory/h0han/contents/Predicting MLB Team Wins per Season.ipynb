{
 "cells": [
  {
   "cell_type": "code",
   "execution_count": 1,
   "metadata": {},
   "outputs": [],
   "source": [
    "# import `pandas` and `sqlite3`\n",
    "import pandas as pd\n",
    "import sqlite3\n",
    "\n",
    "# Connecting to SQLite Database\n",
    "conn = sqlite3.connect('baseball-archive-sqlite\\lahman2016.sqlite')"
   ]
  },
  {
   "cell_type": "code",
   "execution_count": 2,
   "metadata": {},
   "outputs": [],
   "source": [
    "# Querying Database for all seasons where a team played 150 or more games and is still active today. \n",
    "query = '''select * from Teams \n",
    "inner join TeamsFranchises\n",
    "on Teams.franchID == TeamsFranchises.franchID\n",
    "where Teams.G >= 150 and TeamsFranchises.active == 'Y';\n",
    "'''\n",
    "\n",
    "# Creating dataframe from query.\n",
    "Teams = conn.execute(query).fetchall()"
   ]
  },
  {
   "cell_type": "code",
   "execution_count": 3,
   "metadata": {
    "scrolled": true
   },
   "outputs": [
    {
     "name": "stdout",
     "output_type": "stream",
     "text": [
      "     0   1    2    3     4   5    6     7   8   9   ...       42   43   44  \\\n",
      "0  1961  AL  LAA  ANA  None   8  162  82.0  70  91  ...   603510  111  112   \n",
      "1  1962  AL  LAA  ANA  None   3  162  81.0  86  76  ...  1144063   97   97   \n",
      "2  1963  AL  LAA  ANA  None   9  161  81.0  70  91  ...   821015   94   94   \n",
      "3  1964  AL  LAA  ANA  None   5  162  81.0  82  80  ...   760439   90   90   \n",
      "4  1965  AL  CAL  ANA  None   7  162  80.0  75  87  ...   566727   97   98   \n",
      "\n",
      "    45   46   47   48                             49  50    51  \n",
      "0  LAA  LAA  LAA  ANA  Los Angeles Angels of Anaheim   Y  None  \n",
      "1  LAA  LAA  LAA  ANA  Los Angeles Angels of Anaheim   Y  None  \n",
      "2  LAA  LAA  LAA  ANA  Los Angeles Angels of Anaheim   Y  None  \n",
      "3  LAA  LAA  LAA  ANA  Los Angeles Angels of Anaheim   Y  None  \n",
      "4  CAL  CAL  CAL  ANA  Los Angeles Angels of Anaheim   Y  None  \n",
      "\n",
      "[5 rows x 52 columns]\n"
     ]
    }
   ],
   "source": [
    "# Convert results to DataFrame\n",
    "teams_df = pd.DataFrame(Teams)\n",
    "\n",
    "# Print out first 5 rows\n",
    "print(teams_df.head())"
   ]
  },
  {
   "cell_type": "code",
   "execution_count": 4,
   "metadata": {},
   "outputs": [
    {
     "name": "stdout",
     "output_type": "stream",
     "text": [
      "   yearID lgID teamID  franchID divID  Rank    G  Ghome   W   L  ...  \\\n",
      "0    1961   AL    LAA       ANA  None     8  162   82.0  70  91  ...   \n",
      "1    1962   AL    LAA       ANA  None     3  162   81.0  86  76  ...   \n",
      "2    1963   AL    LAA       ANA  None     9  161   81.0  70  91  ...   \n",
      "3    1964   AL    LAA       ANA  None     5  162   81.0  82  80  ...   \n",
      "4    1965   AL    CAL       ANA  None     7  162   80.0  75  87  ...   \n",
      "\n",
      "  attendance  BPF  PPF teamIDBR  teamIDlahman45  teamIDretro  franchID  \\\n",
      "0     603510  111  112      LAA             LAA          LAA       ANA   \n",
      "1    1144063   97   97      LAA             LAA          LAA       ANA   \n",
      "2     821015   94   94      LAA             LAA          LAA       ANA   \n",
      "3     760439   90   90      LAA             LAA          LAA       ANA   \n",
      "4     566727   97   98      CAL             CAL          CAL       ANA   \n",
      "\n",
      "                      franchName  active  NAassoc  \n",
      "0  Los Angeles Angels of Anaheim       Y     None  \n",
      "1  Los Angeles Angels of Anaheim       Y     None  \n",
      "2  Los Angeles Angels of Anaheim       Y     None  \n",
      "3  Los Angeles Angels of Anaheim       Y     None  \n",
      "4  Los Angeles Angels of Anaheim       Y     None  \n",
      "\n",
      "[5 rows x 52 columns]\n",
      "2287\n"
     ]
    }
   ],
   "source": [
    "# Adding column names to dataframe\n",
    "cols = ['yearID','lgID','teamID','franchID','divID','Rank','G','Ghome','W','L','DivWin','WCWin','LgWin','WSWin','R','AB','H','2B','3B','HR','BB','SO','SB','CS','HBP','SF','RA','ER','ERA','CG','SHO','SV','IPouts','HA','HRA','BBA','SOA','E','DP','FP','name','park','attendance','BPF','PPF','teamIDBR','teamIDlahman45','teamIDretro','franchID','franchName','active','NAassoc']\n",
    "teams_df.columns = cols\n",
    "\n",
    "# Print the first rows of `teams_df`\n",
    "print(teams_df.head())\n",
    "\n",
    "# Print the length of `teams_df`\n",
    "print(len(teams_df))\n",
    "# The len() function will let you know how many rows you’re dealing with: 2,287 is not a huge number of data points to work with, so hopefully there aren’t too many null values."
   ]
  },
  {
   "cell_type": "code",
   "execution_count": 5,
   "metadata": {},
   "outputs": [
    {
     "name": "stdout",
     "output_type": "stream",
     "text": [
      "   yearID teamID    G   W    R    AB     H   2B  3B   HR  ...  SHO  SV  \\\n",
      "0    1961    LAA  162  70  744  5424  1331  218  22  189  ...    5  34   \n",
      "1    1962    LAA  162  86  718  5499  1377  232  35  137  ...   15  47   \n",
      "2    1963    LAA  161  70  597  5506  1378  208  38   95  ...   13  31   \n",
      "3    1964    LAA  162  82  544  5362  1297  186  27  102  ...   28  41   \n",
      "4    1965    CAL  162  75  527  5354  1279  200  36   92  ...   14  33   \n",
      "\n",
      "   IPouts    HA  HRA  BBA  SOA    E     DP     FP  \n",
      "0    4314  1391  180  713  973  192  154.0  0.969  \n",
      "1    4398  1412  118  616  858  175  153.0  0.972  \n",
      "2    4365  1317  120  578  889  163  155.0  0.974  \n",
      "3    4350  1273  100  530  965  138  168.0  0.978  \n",
      "4    4323  1259   91  563  847  123  149.0  0.981  \n",
      "\n",
      "[5 rows x 29 columns]\n"
     ]
    }
   ],
   "source": [
    "# Dropping your unnecesary column variables.\n",
    "drop_cols = ['lgID','franchID','divID','Rank','Ghome','L','DivWin','WCWin','LgWin','WSWin','SF','name','park','attendance','BPF','PPF','teamIDBR','teamIDlahman45','teamIDretro','franchID','franchName','active','NAassoc']\n",
    "\n",
    "df = teams_df.drop(drop_cols, axis=1)\n",
    "\n",
    "# Print out first rows of `df`\n",
    "print(df.head())"
   ]
  },
  {
   "cell_type": "code",
   "execution_count": null,
   "metadata": {},
   "outputs": [],
   "source": []
  }
 ],
 "metadata": {
  "kernelspec": {
   "display_name": "Python 3",
   "language": "python",
   "name": "python3"
  },
  "language_info": {
   "codemirror_mode": {
    "name": "ipython",
    "version": 3
   },
   "file_extension": ".py",
   "mimetype": "text/x-python",
   "name": "python",
   "nbconvert_exporter": "python",
   "pygments_lexer": "ipython3",
   "version": "3.7.4"
  }
 },
 "nbformat": 4,
 "nbformat_minor": 2
}
