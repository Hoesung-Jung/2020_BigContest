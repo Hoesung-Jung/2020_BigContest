{
 "cells": [
  {
   "cell_type": "code",
   "execution_count": 31,
   "metadata": {},
   "outputs": [],
   "source": [
    "# 2016 KBO\n",
    "def cal_x(arr):\n",
    "    array = []\n",
    "    for i in range(len(arr)):\n",
    "        team_lst = []\n",
    "        #if sum(arr[i][0:]) == 288:\n",
    "        team = arr[i][0]\n",
    "        g = arr[i][1]\n",
    "#         w = arr[i][2]\n",
    "#         l = arr[i][4]\n",
    "        rs = arr[i][5]\n",
    "        ra = arr[i][6]\n",
    "        wr = arr[i][7]\n",
    "        team_lst.append(team)\n",
    "        x = ((rs + ra)/g) ** 0.287\n",
    "        team_lst.append(x)\n",
    "        ewr = (rs ** x / (rs ** x + ra ** x))\n",
    "        team_lst.append(ewr)\n",
    "        team_lst.append(wr)\n",
    "        array.append(team_lst)\n",
    "    return array"
   ]
  },
  {
   "cell_type": "code",
   "execution_count": 32,
   "metadata": {},
   "outputs": [
    {
     "name": "stdout",
     "output_type": "stream",
     "text": [
      "[['두산', 2.0019339307404524, 0.6528621249766254, 0.65], ['NC', 1.960366137965155, 0.5797086539090532, 0.589], ['넥센', 2.008656949579129, 0.5416718781616443, 0.538], ['LG', 1.962982141850754, 0.49740004100554097, 0.5], ['KIA', 2.010768437562548, 0.5439992409045892, 0.49], ['SK', 1.9933607033263094, 0.4868633503927946, 0.479], ['한화', 2.0278096252173343, 0.4766289288194907, 0.468], ['롯데', 2.012173041853624, 0.44394469942057146, 0.458], ['삼성', 2.03466407717796, 0.43781385409578005, 0.455], ['kt', 1.9955125978275852, 0.3448065785056982, 0.373]]\n"
     ]
    }
   ],
   "source": [
    "arr = [['두산', 144, 93, 1, 50, 935, 682, 0.650], \n",
    "       ['NC', 144, 83, 3, 58, 813, 690, 0.589], \n",
    "       ['넥센', 144, 77, 1, 66, 852, 784, 0.538], \n",
    "       ['LG', 144, 71, 2, 71, 753, 757, 0.500],\n",
    "       ['KIA', 144, 70, 1, 73, 857, 785, 0.490],\n",
    "       ['SK', 144, 69, 0, 75, 786, 807, 0.479],\n",
    "       ['한화', 144, 66, 3, 75, 826, 865, 0.468], \n",
    "       ['롯데', 144, 66, 0, 78, 777, 869, 0.458], \n",
    "       ['삼성', 144, 65, 1, 78, 803, 908, 0.455], \n",
    "       ['kt', 144, 53, 2, 89, 672, 927, 0.373]]\n",
    "print(cal_x(arr))"
   ]
  },
  {
   "cell_type": "markdown",
   "metadata": {},
   "source": [
    "### 피타고리언 승률과 차이 많이 나는 팀 원인 분석 ==> 데이터 전처리 필요\n",
    "### 전, 후반기로 나누어 승률 추이 관찰"
   ]
  },
  {
   "cell_type": "code",
   "execution_count": null,
   "metadata": {},
   "outputs": [],
   "source": []
  }
 ],
 "metadata": {
  "kernelspec": {
   "display_name": "Python 3",
   "language": "python",
   "name": "python3"
  },
  "language_info": {
   "codemirror_mode": {
    "name": "ipython",
    "version": 3
   },
   "file_extension": ".py",
   "mimetype": "text/x-python",
   "name": "python",
   "nbconvert_exporter": "python",
   "pygments_lexer": "ipython3",
   "version": "3.8.3"
  }
 },
 "nbformat": 4,
 "nbformat_minor": 4
}
